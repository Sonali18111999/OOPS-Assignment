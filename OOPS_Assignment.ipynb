{
  "nbformat": 4,
  "nbformat_minor": 0,
  "metadata": {
    "colab": {
      "provenance": []
    },
    "kernelspec": {
      "name": "python3",
      "display_name": "Python 3"
    },
    "language_info": {
      "name": "python"
    }
  },
  "cells": [
    {
      "cell_type": "markdown",
      "source": [
        "# ***Python OOPs Questions***"
      ],
      "metadata": {
        "id": "f-w05wMPWOCi"
      }
    },
    {
      "cell_type": "markdown",
      "source": [
        "# **1. What is Object-Oriented Programming (OOP)?**\n",
        "\n",
        "Object-Oriented Programming (OOP) in Python is a programming approach where you structure your code using classes and objects to model real-world entities and their behavior. Python fully supports OOP, making it possible to create reusable, modular, and organized code.\n",
        "\n",
        "**Key Concepts of OOP in Python:**\n",
        "\n",
        "**1. Class:**\n",
        "A class is a blueprint for creating objects. It defines attributes and methods."
      ],
      "metadata": {
        "id": "NZ0fscXhhOVd"
      }
    },
    {
      "cell_type": "code",
      "execution_count": null,
      "metadata": {
        "id": "jDPzMTVGhGyc"
      },
      "outputs": [],
      "source": [
        "class Person:\n",
        "    def __init__(self, name, age):  # Constructor\n",
        "        self.name = name\n",
        "        self.age = age\n",
        "\n",
        "    def greet(self):\n",
        "        print(f\"Hello, my name is {self.name}.\")"
      ]
    },
    {
      "cell_type": "markdown",
      "source": [
        "**2. Object:**\n",
        "An object is an instance of a class."
      ],
      "metadata": {
        "id": "zYKafcdpifN5"
      }
    },
    {
      "cell_type": "code",
      "source": [
        "person1 = Person(\"Alice\", 30)\n",
        "person1.greet()  # Output: Hello, my name is Alice."
      ],
      "metadata": {
        "colab": {
          "base_uri": "https://localhost:8080/"
        },
        "id": "BD8DqMGxiYzB",
        "outputId": "50371202-24aa-40fa-f7ba-1f9702662d2d"
      },
      "execution_count": null,
      "outputs": [
        {
          "output_type": "stream",
          "name": "stdout",
          "text": [
            "Hello, my name is Alice.\n"
          ]
        }
      ]
    },
    {
      "cell_type": "markdown",
      "source": [
        "**3. Encapsulation:**\n",
        "Restricts direct access to some of an object’s components."
      ],
      "metadata": {
        "id": "uuPXqcGjipU_"
      }
    },
    {
      "cell_type": "code",
      "source": [
        "class BankAccount:\n",
        "    def __init__(self, balance):\n",
        "        self.__balance = balance  # Private attribute\n",
        "\n",
        "    def deposit(self, amount):\n",
        "        self.__balance += amount\n",
        "\n",
        "    def get_balance(self):\n",
        "        return self.__balance"
      ],
      "metadata": {
        "id": "SUQfUNQiimNP"
      },
      "execution_count": null,
      "outputs": []
    },
    {
      "cell_type": "markdown",
      "source": [
        "**4. Inheritance:**\n",
        "Allows a class to inherit from another class."
      ],
      "metadata": {
        "id": "NKAiL1Qvixfs"
      }
    },
    {
      "cell_type": "code",
      "source": [
        "class Animal:\n",
        "    def speak(self):\n",
        "        print(\"Some sound\")\n",
        "\n",
        "class Dog(Animal):\n",
        "    def speak(self):\n",
        "        print(\"Bark\")\n",
        "\n",
        "d = Dog()\n",
        "d.speak()  # Output: Bark"
      ],
      "metadata": {
        "colab": {
          "base_uri": "https://localhost:8080/"
        },
        "id": "Tuwymtrqiu3e",
        "outputId": "3504402b-67c6-410c-e3c5-37fb8125059a"
      },
      "execution_count": null,
      "outputs": [
        {
          "output_type": "stream",
          "name": "stdout",
          "text": [
            "Bark\n"
          ]
        }
      ]
    },
    {
      "cell_type": "markdown",
      "source": [
        "**5. Polymorphism:**\n",
        "Different classes can define methods with the same name."
      ],
      "metadata": {
        "id": "C5U5YsHIi6C3"
      }
    },
    {
      "cell_type": "code",
      "source": [
        "def animal_sound(animal):\n",
        "    animal.speak()\n",
        "\n",
        "animal_sound(Dog())  # Output: Bark"
      ],
      "metadata": {
        "colab": {
          "base_uri": "https://localhost:8080/"
        },
        "id": "_gdpXx1oi3TU",
        "outputId": "2c42e1d6-4d58-4ad5-a14f-ed68c31b766d"
      },
      "execution_count": null,
      "outputs": [
        {
          "output_type": "stream",
          "name": "stdout",
          "text": [
            "Bark\n"
          ]
        }
      ]
    },
    {
      "cell_type": "markdown",
      "source": [
        "**6. Abstraction:**\n",
        "Hides complexity by exposing only the necessary parts."
      ],
      "metadata": {
        "id": "2GS7aeNZjDTj"
      }
    },
    {
      "cell_type": "code",
      "source": [
        "from abc import ABC, abstractmethod\n",
        "\n",
        "class Shape(ABC):\n",
        "    @abstractmethod\n",
        "    def area(self):\n",
        "        pass\n",
        "\n",
        "class Circle(Shape):\n",
        "    def __init__(self, radius):\n",
        "        self.radius = radius\n",
        "\n",
        "    def area(self):\n",
        "        return 3.14 * self.radius ** 2"
      ],
      "metadata": {
        "id": "fqJ77WC5i_qc"
      },
      "execution_count": null,
      "outputs": []
    },
    {
      "cell_type": "markdown",
      "source": [
        "OOP in Python helps with code reuse, clarity, and managing larger projects effectively."
      ],
      "metadata": {
        "id": "hrjb6lnkjLeC"
      }
    },
    {
      "cell_type": "markdown",
      "source": [
        "# **2. What is a class in OOP?**\n",
        "\n",
        "In Object-Oriented Programming (OOP) in Python, a class is a user-defined blueprint or prototype for creating objects. It groups together data (attributes) and behavior (methods) into a single structure.\n",
        "\n",
        "**Key Components of a Python Class:**\n",
        "\n",
        "**Attributes:** Variables that belong to the class or objects.\n",
        "\n",
        "**Methods:** Functions defined inside the class that describe the behavior of the objects.\n",
        "\n",
        "**Constructor (__init__ method):** Special method used to initialize new objects.\n",
        "\n",
        "**Basic Syntax of a Class in Python:**"
      ],
      "metadata": {
        "id": "31nDfV4yjOWv"
      }
    },
    {
      "cell_type": "code",
      "source": [
        "class Person:\n",
        "    def __init__(self, name, age):  # Constructor\n",
        "        self.name = name            # Instance attribute\n",
        "        self.age = age\n",
        "\n",
        "    def greet(self):                # Method\n",
        "        print(f\"Hello, my name is {self.name} and I am {self.age} years old.\")\n",
        "#Creating and Using an Object:\n",
        "person1 = Person(\"Alice\", 25)\n",
        "person1.greet()  # Output: Hello, my name is Alice and I am 25 years old."
      ],
      "metadata": {
        "colab": {
          "base_uri": "https://localhost:8080/"
        },
        "id": "QNpupKjOjIiv",
        "outputId": "a621c348-ddda-453c-c0f7-8b1b115e50fe"
      },
      "execution_count": null,
      "outputs": [
        {
          "output_type": "stream",
          "name": "stdout",
          "text": [
            "Hello, my name is Alice and I am 25 years old.\n"
          ]
        }
      ]
    },
    {
      "cell_type": "markdown",
      "source": [
        "How It Works:\n",
        "\n",
        "*   **class Person:** Defines a class named Person.\n",
        "*   **__init__:** Initializes attributes when an object is created.\n",
        "*   **self:** Refers to the current instance of the class.\n",
        "*   **person1:** An instance (object) of the Person class.\n",
        "\n",
        "In Python OOP, a class defines the structure and behavior of related objects. You use it to create instances (objects), which are the actual entities in your program.\n",
        "\n",
        "\n",
        "\n",
        "\n",
        "\n"
      ],
      "metadata": {
        "id": "XVQTHrq8j0xS"
      }
    },
    {
      "cell_type": "markdown",
      "source": [
        "# **3. What is an object in OOP?**\n",
        "\n",
        "In Object-Oriented Programming (OOP) in Python, an object is an instance of a class. It represents a specific entity that has the properties (attributes) and behaviors (methods) defined by the class.\n",
        "\n",
        "**In Simple Terms:**\n",
        "\n",
        "*   A class is like a blueprint (e.g., a blueprint for a car).\n",
        "*   An object is a specific, actual thing built from that blueprint (e.g., your own red Toyota Corolla).\n",
        "\n",
        "Example:"
      ],
      "metadata": {
        "id": "MSYQDjT3kLfL"
      }
    },
    {
      "cell_type": "code",
      "source": [
        "class Book:\n",
        "    def __init__(self, title, author):\n",
        "        self.title = title\n",
        "        self.author = author\n",
        "\n",
        "    def describe(self):\n",
        "        print(f\"'{self.title}' is written by {self.author}.\")\n",
        "        #Creating Objects:\n",
        "        book1 = Book(\"1984\", \"George Orwell\")\n",
        "book2 = Book(\"To Kill a Mockingbird\", \"Harper Lee\")\n",
        "\n",
        "book1.describe()  # Output: '1984' is written by George Orwell.\n",
        "book2.describe()  # Output: 'To Kill a Mockingbird' is written by Harper Lee."
      ],
      "metadata": {
        "id": "g2--f3I6jr_o"
      },
      "execution_count": null,
      "outputs": []
    },
    {
      "cell_type": "markdown",
      "source": [
        "Explanation:\n",
        "\n",
        "*   Book is the class (defines what a book is).\n",
        "*   book1 and book2 are objects (specific books with their own titles and authors).\n",
        "*   Each object uses the describe() method to display its info.\n",
        "\n",
        "Summary:\n",
        "\n",
        "*   Object = instance of a class.\n",
        "*   It holds its own data (attributes) and can perform actions (methods).\n",
        "*   Multiple objects can be created from one class, each with different data.\n",
        "\n",
        "\n",
        "\n",
        "\n",
        "\n",
        "\n",
        "\n",
        "\n",
        "\n"
      ],
      "metadata": {
        "id": "0cPhnMILlnYO"
      }
    },
    {
      "cell_type": "markdown",
      "source": [
        "# **4. What is the difference between abstraction and encapsulation?**\n",
        "\n",
        "Abstraction and Encapsulation are two core concepts in Object-Oriented Programming (OOP), including Python, and while they're related, they serve different purposes.\n",
        "\n",
        "**Encapsulation:**\n",
        "Encapsulation is the practice of bundling data (attributes) and methods (functions) that operate on that data into a single unit — a class — and restricting direct access to some of the object’s components.\n",
        "\n",
        "**Purpose:**\n",
        "\n",
        "*   To protect the internal state of an object.\n",
        "*   To prevent external code from changing internal variables directly.\n",
        "\n"
      ],
      "metadata": {
        "id": "afsbRX37mIWE"
      }
    },
    {
      "cell_type": "code",
      "source": [
        "class Account:\n",
        "    def __init__(self, balance):\n",
        "        self.__balance = balance  # private attribute\n",
        "\n",
        "    def deposit(self, amount):\n",
        "        if amount > 0:\n",
        "            self.__balance += amount\n",
        "\n",
        "    def get_balance(self):\n",
        "        return self.__balance\n"
      ],
      "metadata": {
        "id": "7vGNiIaWlQ_Q"
      },
      "execution_count": null,
      "outputs": []
    },
    {
      "cell_type": "markdown",
      "source": [
        "*   __balance is encapsulated — can't be accessed directly from outside.\n",
        "*   Access is controlled through public methods like get_balance().\n",
        "\n",
        "\n",
        "**Abstraction:**\n",
        "Abstraction is the concept of hiding complex implementation details and showing only essential features of an object or system.\n",
        "\n",
        "**Purpose:**\n",
        "\n",
        "\n",
        "*   To simplify usage of complex systems.\n",
        "*   To focus on what an object does, rather than how it does it.\n",
        "\n",
        "In Python (using abstract base class):\n",
        "\n"
      ],
      "metadata": {
        "id": "mtp9ZIAlmtCd"
      }
    },
    {
      "cell_type": "code",
      "source": [
        "from abc import ABC, abstractmethod\n",
        "\n",
        "class Vehicle(ABC):\n",
        "    @abstractmethod\n",
        "    def start_engine(self):\n",
        "        pass\n",
        "\n",
        "class Car(Vehicle):\n",
        "    def start_engine(self):\n",
        "        print(\"Car engine started.\")\n"
      ],
      "metadata": {
        "id": "qgmmzM4NmsVc"
      },
      "execution_count": null,
      "outputs": []
    },
    {
      "cell_type": "markdown",
      "source": [
        "\n",
        "\n",
        "*   Vehicle is an abstract class — it defines a general idea.\n",
        "*   Car is a concrete class — it implements the actual behavior.\n",
        "\n",
        "In Python, **abstraction** and **encapsulation** are both fundamental concepts of object-oriented programming, but they serve different purposes. **Encapsulation** is the practice of wrapping data (attributes) and the code (methods) that operates on that data into a single unit, typically a class, and restricting access to some of the object's components to protect its internal state. This is commonly done using private variables (with double underscores, like `__balance`) and public getter/setter methods. It helps prevent external interference and misuse of the data. On the other hand, **abstraction** is the process of hiding the complex implementation details of a system and exposing only the necessary parts through a simple interface. It allows the programmer to focus on what an object does instead of how it does it. In Python, abstraction is often achieved using **abstract base classes** and the `@abstractmethod` decorator from the `abc` module. While encapsulation secures the internal representation of an object, abstraction simplifies the interface and promotes a clean separation between design and implementation.\n",
        "\n",
        "\n"
      ],
      "metadata": {
        "id": "xvdh_rNfnOeJ"
      }
    },
    {
      "cell_type": "markdown",
      "source": [
        "# **5. What are dunder methods in Python?**\n",
        "\n",
        "Dunder methods (short for \"double underscore\" methods) in Python are special methods that start and end with double underscores, like __init__, __str__, and __len__. These methods are also called magic methods because they enable you to define or customize how objects behave with built-in Python syntax and operations.\n",
        "\n",
        "\n",
        "**Purpose of Dunder Methods:**\n",
        "Dunder methods allow your custom objects (instances of classes) to behave like built-in types. For example, you can define how your object should behave when printed, compared, added, or indexed.\n",
        "\n",
        "Common Dunder Methods:\n",
        "\n",
        "__init__:\tConstructor, initializes the object.\n",
        "\n",
        "__str__:\tDefines the string representation used by print().\n",
        "\n",
        "__repr__:\tOfficial string representation for debugging.\n",
        "\n",
        "__len__:\tCalled by len().\n",
        "\n",
        "__eq__:\tDefines behavior for == comparison.\n",
        "\n",
        "__add__:\tDefines behavior for the + operator.\n",
        "\n",
        "__getitem__:\tAllows object indexing like obj[0].\n",
        "\n",
        "Dunder methods let you customize how your objects interact with Python's built-in functions and operators. They make your classes behave more like native Python types, improving readability and functionality.\n",
        "\n"
      ],
      "metadata": {
        "id": "PURw6axFncEh"
      }
    },
    {
      "cell_type": "code",
      "source": [
        "class Book:\n",
        "    def __init__(self, title, pages):\n",
        "        self.title = title\n",
        "        self.pages = pages\n",
        "\n",
        "    def __str__(self):\n",
        "        return f\"Book: {self.title}\"\n",
        "\n",
        "    def __len__(self):\n",
        "        return self.pages\n",
        "\n",
        "book = Book(\"Python Basics\", 350)\n",
        "print(book)         # Output: Book: Python Basics\n",
        "print(len(book))    # Output: 350"
      ],
      "metadata": {
        "colab": {
          "base_uri": "https://localhost:8080/"
        },
        "id": "eFoWP7YLnJ13",
        "outputId": "b3b7cdbf-4de9-4a8b-dad9-c711fedb3500"
      },
      "execution_count": null,
      "outputs": [
        {
          "output_type": "stream",
          "name": "stdout",
          "text": [
            "Book: Python Basics\n",
            "350\n"
          ]
        }
      ]
    },
    {
      "cell_type": "markdown",
      "source": [
        "# **6. Explain the concept of inheritance in OOP.**\n",
        "\n",
        "In Object-Oriented Programming (OOP) in Python, inheritance is a fundamental concept where a new class (called a child class or subclass) can inherit attributes and methods from an existing class (called the parent class or superclass). This allows the child class to reuse code, extend functionality, and modify behaviors without having to rewrite code that is already defined in the parent class.\n",
        "\n",
        "**Key Points of Inheritance:**\n",
        "\n",
        "\n",
        "\n",
        "1.   **Code Reusability:** The child class can reuse the code (methods and attributes) of the parent class, avoiding redundancy.\n",
        "\n",
        "2.   **Extensibility:** The child class can extend or modify the behavior of the parent class.\n",
        "\n",
        "3. **Hierarchical Structure:** It helps in creating a clear hierarchical structure of classes, reflecting \"is-a\" relationships. For example, a Dog is-a type of Animal.\n",
        "\n",
        "\n",
        "**Basic Syntax:**\n",
        "*   A child class is created by specifying the parent class in parentheses when defining the child class.\n",
        "\n",
        "\n"
      ],
      "metadata": {
        "id": "Uc0Udub_pNqj"
      }
    },
    {
      "cell_type": "code",
      "source": [
        "class Parent:\n",
        "    def method_in_parent(self):\n",
        "        print(\"This is a method in the parent class.\")\n",
        "\n",
        "class Child(Parent):  # Inheriting from Parent class\n",
        "    def method_in_child(self):\n",
        "        print(\"This is a method in the child class.\")"
      ],
      "metadata": {
        "id": "yBbLa3kDpG8a"
      },
      "execution_count": null,
      "outputs": []
    },
    {
      "cell_type": "code",
      "source": [
        "#Example in Python:\n",
        "# Parent class\n",
        "class Animal:\n",
        "    def __init__(self, name):\n",
        "        self.name = name\n",
        "\n",
        "    def speak(self):\n",
        "        print(f\"{self.name} makes a sound.\")\n",
        "\n",
        "# Child class inheriting from Animal class\n",
        "class Dog(Animal):\n",
        "    def speak(self):  # Overriding the method in the parent class\n",
        "        print(f\"{self.name} barks.\")\n",
        "\n",
        "# Another child class inheriting from Animal class\n",
        "class Cat(Animal):\n",
        "    def speak(self):  # Overriding the method in the parent class\n",
        "        print(f\"{self.name} meows.\")\n",
        "\n",
        "# Creating objects of the child classes\n",
        "dog = Dog(\"Buddy\")\n",
        "cat = Cat(\"Whiskers\")\n",
        "\n",
        "dog.speak()  # Output: Buddy barks.\n",
        "cat.speak()  # Output: Whiskers meows.\n"
      ],
      "metadata": {
        "colab": {
          "base_uri": "https://localhost:8080/"
        },
        "id": "6b4Zkxhlqeib",
        "outputId": "80e8fbe4-98ea-4d05-a58c-5e3f028b32bb"
      },
      "execution_count": null,
      "outputs": [
        {
          "output_type": "stream",
          "name": "stdout",
          "text": [
            "Buddy barks.\n",
            "Whiskers meows.\n"
          ]
        }
      ]
    },
    {
      "cell_type": "markdown",
      "source": [
        "**Breakdown:**\n",
        "\n",
        "1. **Parent Class:** Animal defines an __init__ method to initialize the name and a speak method to describe a general sound.\n",
        "\n",
        "2. **Child Classes:** Dog and Cat inherit from Animal. Both override the speak method to implement their own behavior (barking and meowing, respectively).\n",
        "\n",
        "3. **Method Overriding:** The child classes modify the speak method to provide specific implementations while maintaining the shared structure from the parent class.\n",
        "\n",
        "**Types of Inheritance in Python:**\n",
        "\n",
        "1. **Single Inheritance:** A child class inherits from one parent class."
      ],
      "metadata": {
        "id": "mNWsH_6EqrJt"
      }
    },
    {
      "cell_type": "code",
      "source": [
        "class Parent:\n",
        "    pass\n",
        "class Child(Parent):\n",
        "    pass"
      ],
      "metadata": {
        "id": "3aUY5UJAqldu"
      },
      "execution_count": null,
      "outputs": []
    },
    {
      "cell_type": "markdown",
      "source": [
        "2. **Multiple Inheritance:** A child class inherits from more than one parent class."
      ],
      "metadata": {
        "id": "R-m2dzhxrN8X"
      }
    },
    {
      "cell_type": "code",
      "source": [
        "class Parent1:\n",
        "    pass\n",
        "class Parent2:\n",
        "    pass\n",
        "class Child(Parent1, Parent2):\n",
        "    pass\n"
      ],
      "metadata": {
        "id": "v9RvfxEdrJDX"
      },
      "execution_count": null,
      "outputs": []
    },
    {
      "cell_type": "markdown",
      "source": [
        "3. **Multilevel Inheritance:** A class inherits from a class that is itself derived from another class."
      ],
      "metadata": {
        "id": "Bw1d7-cJredN"
      }
    },
    {
      "cell_type": "code",
      "source": [
        "class Grandparent:\n",
        "    pass\n",
        "class Parent(Grandparent):\n",
        "    pass\n",
        "class Child(Parent):\n",
        "    pass"
      ],
      "metadata": {
        "id": "dInwLymorjKO"
      },
      "execution_count": null,
      "outputs": []
    },
    {
      "cell_type": "markdown",
      "source": [
        "4. **Hierarchical Inheritance:** Multiple classes inherit from a single parent class."
      ],
      "metadata": {
        "id": "GDKRtASQrmO7"
      }
    },
    {
      "cell_type": "code",
      "source": [
        "class Parent:\n",
        "    pass\n",
        "class Child1(Parent):\n",
        "    pass\n",
        "class Child2(Parent):\n",
        "    pass"
      ],
      "metadata": {
        "id": "i5-rUxBwrqkz"
      },
      "execution_count": null,
      "outputs": []
    },
    {
      "cell_type": "markdown",
      "source": [
        "5. **Hybrid Inheritance:** A combination of multiple types of inheritance."
      ],
      "metadata": {
        "id": "Cep_wJWArtiK"
      }
    },
    {
      "cell_type": "code",
      "source": [
        "class Parent1:\n",
        "    pass\n",
        "class Parent2:\n",
        "    pass\n",
        "class Child(Parent1, Parent2):\n",
        "    pass"
      ],
      "metadata": {
        "id": "WUQIPpolryx2"
      },
      "execution_count": null,
      "outputs": []
    },
    {
      "cell_type": "markdown",
      "source": [
        "\n",
        "\n",
        "*   Inheritance allows one class (the child class) to inherit attributes and methods from another (the parent class).\n",
        "*   It helps in reusing code, extending functionality, and creating hierarchical relationships.\n",
        "*   In Python, inheritance is implemented using parentheses to specify the parent class when defining the child class.\n",
        "\n",
        "\n",
        "\n",
        "\n"
      ],
      "metadata": {
        "id": "QpDY-r_ir1bP"
      }
    },
    {
      "cell_type": "markdown",
      "source": [
        "# **7. What is polymorphism in OOP?**\n",
        "\n",
        "Polymorphism in Object-Oriented Programming (OOP) refers to the ability of different classes to provide a common interface for their methods, allowing the same method to behave differently depending on the object (class) it is acting upon. In Python, polymorphism allows objects of different types to be treated as objects of a common supertype, typically through method overriding or method overloading.\n",
        "\n",
        "**Key Concepts of Polymorphism:**\n",
        "\n",
        "**1. Method Overriding:** In inheritance, the child class can override the method of the parent class, providing a specific implementation.\n",
        "\n",
        "**2. Method Overloading (limited in Python):** In some languages, you can have multiple methods with the same name but different parameters. Python does not directly support method overloading like languages such as Java, but you can achieve similar behavior by using default arguments or variable-length arguments.\n",
        "\n",
        "**3. Dynamic Typing:** Python’s dynamic typing system allows polymorphism to be easily implemented because objects can change types at runtime.\n",
        "\n",
        "\n",
        "**Example of Polymorphism with Method Overriding:**\n",
        "\n",
        "In this example, two classes (Dog and Cat) inherit from a parent class (Animal) and override the speak() method. Even though speak() is called in the same way, its behavior differs depending on whether the object is a Dog or a Cat."
      ],
      "metadata": {
        "id": "6cC9tlW1sLTQ"
      }
    },
    {
      "cell_type": "code",
      "source": [
        "# Parent class\n",
        "class Animal:\n",
        "    def speak(self):\n",
        "        print(\"Animal makes a sound.\")\n",
        "\n",
        "# Child class 1\n",
        "class Dog(Animal):\n",
        "    def speak(self):\n",
        "        print(\"Dog barks.\")\n",
        "\n",
        "# Child class 2\n",
        "class Cat(Animal):\n",
        "    def speak(self):\n",
        "        print(\"Cat meows.\")\n",
        "\n",
        "# Creating objects\n",
        "animals = [Dog(), Cat(), Animal()]\n",
        "\n",
        "# Demonstrating Polymorphism\n",
        "for animal in animals:\n",
        "    animal.speak()\n"
      ],
      "metadata": {
        "colab": {
          "base_uri": "https://localhost:8080/"
        },
        "id": "a8gimyhZtE2p",
        "outputId": "b1131385-204c-4c31-c3a5-eb0b1e51e152"
      },
      "execution_count": null,
      "outputs": [
        {
          "output_type": "stream",
          "name": "stdout",
          "text": [
            "Dog barks.\n",
            "Cat meows.\n",
            "Animal makes a sound.\n"
          ]
        }
      ]
    },
    {
      "cell_type": "markdown",
      "source": [
        "**How Polymorphism Works:**\n",
        "\n",
        "\n",
        "\n",
        "*   In the loop, we treat all objects (Dog, Cat, and Animal) as objects of the Animal type.\n",
        "*   The speak() method is called on each object, and polymorphism ensures that the correct version of speak() is invoked for each specific object.\n",
        "*   Method overriding allows the child classes (Dog and Cat) to provide their own behavior for the speak() method, while the parent class (Animal) provides a default behavior.\n",
        "\n",
        "Polymorphism enables a single interface (method or function) to be used for different data types or objects. It allows different classes to implement the same method in their own way. This makes code more flexible and easier to extend, as new classes can be added without modifying existing code that uses the common interface.\n",
        "\n",
        "\n",
        "\n",
        "\n"
      ],
      "metadata": {
        "id": "GmdZLnsYtLWa"
      }
    },
    {
      "cell_type": "markdown",
      "source": [
        "# **8. How is encapsulation achieved in Python?**\n",
        "\n",
        "Encapsulation in Python is achieved through classes and the use of access modifiers to restrict access to data and methods. Here's how it works:\n",
        "\n",
        "**1. Using Classes:**\n",
        "Encapsulation is primarily implemented by defining a class that contains both data (attributes) and methods (functions) that operate on the data.\n",
        "\n",
        "**2. Access Modifiers:**\n",
        "Python doesn’t enforce strict access control like some other languages (e.g., Java or C++), but it uses naming conventions to indicate the level of access:\n",
        "\n",
        "*   **Public members:** Accessible from anywhere. No underscores.\n",
        "\n",
        "\n"
      ],
      "metadata": {
        "id": "jFUl7rFGtfa0"
      }
    },
    {
      "cell_type": "code",
      "source": [
        "class Example:\n",
        "    def __init__(self):\n",
        "        self.name = \"Public\""
      ],
      "metadata": {
        "id": "jzK9dDD0uaZ-"
      },
      "execution_count": null,
      "outputs": []
    },
    {
      "cell_type": "markdown",
      "source": [
        "*   **Protected members:** Intended to be used within the class and its subclasses. One underscore prefix.\n"
      ],
      "metadata": {
        "id": "lk0JKe-Z6JHF"
      }
    },
    {
      "cell_type": "code",
      "source": [
        "class Example:\n",
        "    def __init__(self):\n",
        "        self._name = \"Protected\"\n"
      ],
      "metadata": {
        "id": "xJSVhjU-6T8f"
      },
      "execution_count": null,
      "outputs": []
    },
    {
      "cell_type": "markdown",
      "source": [
        "*  **Private members:** Name-mangled to make them harder to access from outside. Two underscore prefix.\n"
      ],
      "metadata": {
        "id": "Ofhi4nxe6WwL"
      }
    },
    {
      "cell_type": "code",
      "source": [
        "class Example:\n",
        "    def __init__(self):\n",
        "        self.__name = \"Private\""
      ],
      "metadata": {
        "id": "DQfFL3HG6iXr"
      },
      "execution_count": null,
      "outputs": []
    },
    {
      "cell_type": "markdown",
      "source": [
        "**3. Getter and Setter Methods:**\n",
        "To control access to private attributes, Python uses getter and setter methods, or the @property decorator."
      ],
      "metadata": {
        "id": "sSikxhGm6jkZ"
      }
    },
    {
      "cell_type": "code",
      "source": [
        "class Person:\n",
        "    def __init__(self, age):\n",
        "        self.__age = age  # private variable\n",
        "\n",
        "    def get_age(self):\n",
        "        return self.__age\n",
        "\n",
        "    def set_age(self, age):\n",
        "        if age > 0:\n",
        "            self.__age = age\n",
        "\n",
        "# Usage\n",
        "p = Person(25)\n",
        "print(p.get_age())  # Accessing private variable via getter\n",
        "p.set_age(30)       # Modifying via setter"
      ],
      "metadata": {
        "colab": {
          "base_uri": "https://localhost:8080/"
        },
        "id": "NRB8Sx5g6tPk",
        "outputId": "d0f95eaf-1944-47ff-9859-1903b84623ad"
      },
      "execution_count": 1,
      "outputs": [
        {
          "output_type": "stream",
          "name": "stdout",
          "text": [
            "25\n"
          ]
        }
      ]
    },
    {
      "cell_type": "code",
      "source": [
        "#Alternatively, using @property:\n",
        "class Person:\n",
        "    def __init__(self, age):\n",
        "        self.__age = age\n",
        "\n",
        "    @property\n",
        "    def age(self):\n",
        "        return self.__age\n",
        "\n",
        "    @age.setter\n",
        "    def age(self, value):\n",
        "        if value > 0:\n",
        "            self.__age = value"
      ],
      "metadata": {
        "id": "ivsBUeQm6vs0"
      },
      "execution_count": 2,
      "outputs": []
    },
    {
      "cell_type": "markdown",
      "source": [
        "Encapsulation in Python is achieved by:\n",
        "\n",
        "\n",
        "*   Defining classes to bundle data and methods\n",
        "*   Using naming conventions (_ and __) for access control\n",
        "*   Providing controlled access via methods or the @property decorator\n",
        "\n",
        "\n",
        "\n"
      ],
      "metadata": {
        "id": "lSAVrnlz68P0"
      }
    },
    {
      "cell_type": "markdown",
      "source": [
        "# **9. What is a constructor in Python?**\n",
        "\n",
        "In Python, a constructor is a special method used to initialize a newly created object of a class. It's defined using the __init__ method.\n",
        "\n",
        "**Syntax:**"
      ],
      "metadata": {
        "id": "Okofa0377KkM"
      }
    },
    {
      "cell_type": "code",
      "source": [
        "class ClassName:\n",
        "    def __init__(self, parameters):\n",
        "        # initialization code\n",
        "        self.attribute = value"
      ],
      "metadata": {
        "id": "z4pbRY5z65lg"
      },
      "execution_count": 3,
      "outputs": []
    },
    {
      "cell_type": "markdown",
      "source": [
        "**Key Points:**\n",
        "\n",
        "\n",
        "*   The __init__ method is automatically called when a new object is created from a class.\n",
        "*   The self parameter refers to the current instance of the class.\n",
        "*   You can pass additional arguments to customize object initialization.\n",
        "\n",
        "**Example:**\n",
        "\n",
        "\n",
        "\n",
        "\n"
      ],
      "metadata": {
        "id": "VLPdS_P_7c3f"
      }
    },
    {
      "cell_type": "code",
      "source": [
        "class Person:\n",
        "    def __init__(self, name, age):\n",
        "        self.name = name\n",
        "        self.age = age\n",
        "\n",
        "# Creating an object\n",
        "p = Person(\"Alice\", 30)\n",
        "\n",
        "print(p.name)  # Output: Alice\n",
        "print(p.age)   # Output: 30"
      ],
      "metadata": {
        "colab": {
          "base_uri": "https://localhost:8080/"
        },
        "id": "iGfRuCiO7v0-",
        "outputId": "9b43c01d-8c17-4a9f-d210-21a58d45a08a"
      },
      "execution_count": 4,
      "outputs": [
        {
          "output_type": "stream",
          "name": "stdout",
          "text": [
            "Alice\n",
            "30\n"
          ]
        }
      ]
    },
    {
      "cell_type": "markdown",
      "source": [
        "Here, __init__ sets up the name and age attributes when a Person object is created."
      ],
      "metadata": {
        "id": "K-NCBPJe7y3D"
      }
    },
    {
      "cell_type": "markdown",
      "source": [
        "# **10. What are class and static methods in Python?**\n",
        "\n",
        "In Python, class methods and static methods are two types of methods that are defined within a class but behave differently from instance methods. Here's a clear breakdown:\n",
        "\n",
        "**1. Class Methods:**\n",
        "\n",
        "**Definition:** A method that takes the class itself as the first argument, not the instance.\n",
        "\n",
        "**Decorator:** @classmethod\n",
        "\n",
        "**First Parameter:** cls (refers to the class)\n",
        "\n",
        "**Use Case:** When you need to access or modify class-level data or create instances in alternative ways."
      ],
      "metadata": {
        "id": "ybLJmz1M711w"
      }
    },
    {
      "cell_type": "code",
      "source": [
        "class Person:\n",
        "    species = \"Homo sapiens\"\n",
        "\n",
        "    def __init__(self, name):\n",
        "        self.name = name\n",
        "\n",
        "    @classmethod\n",
        "    def change_species(cls, new_species):\n",
        "        cls.species = new_species\n",
        "\n",
        "# Usage\n",
        "Person.change_species(\"Homo neanderthalensis\")\n",
        "print(Person.species)  # Output: Homo neanderthalensis\n"
      ],
      "metadata": {
        "colab": {
          "base_uri": "https://localhost:8080/"
        },
        "id": "bqZAxINu7wis",
        "outputId": "c1ef6f3a-a24a-4bd5-f4f0-6d08eff71ba1"
      },
      "execution_count": 5,
      "outputs": [
        {
          "output_type": "stream",
          "name": "stdout",
          "text": [
            "Homo neanderthalensis\n"
          ]
        }
      ]
    },
    {
      "cell_type": "markdown",
      "source": [
        "**2. Static Methods:**\n",
        "\n",
        "**Definition:** A method that does not take either self or cls as the first argument.\n",
        "\n",
        "**Decorator:** @staticmethod\n",
        "\n",
        "**Use Case:** When the method doesn’t need to access instance (self) or class (cls) data. It logically belongs to the class but operates independently of instance or class data."
      ],
      "metadata": {
        "id": "3gZ2-XyP8Q-s"
      }
    },
    {
      "cell_type": "code",
      "source": [
        "class MathHelper:\n",
        "    @staticmethod\n",
        "    def add(x, y):\n",
        "        return x + y\n",
        "\n",
        "# Usage\n",
        "result = MathHelper.add(5, 3)\n",
        "print(result)  # Output: 8\n"
      ],
      "metadata": {
        "colab": {
          "base_uri": "https://localhost:8080/"
        },
        "id": "dzU7ZuQu8NFV",
        "outputId": "728db2eb-e482-4a23-ee9a-90a70a5dd574"
      },
      "execution_count": 6,
      "outputs": [
        {
          "output_type": "stream",
          "name": "stdout",
          "text": [
            "8\n"
          ]
        }
      ]
    },
    {
      "cell_type": "markdown",
      "source": [
        "| Feature        | Instance Method       | Class Method    | Static Method   |\n",
        "| -------------- | --------------------- | --------------- | --------------- |\n",
        "| First Argument | `self` (instance)     | `cls` (class)   | None            |\n",
        "| Access to...   | Instance & class data | Class data only | Neither         |\n",
        "| Decorator Used | None                  | `@classmethod`  | `@staticmethod` |\n"
      ],
      "metadata": {
        "id": "v7C_s-ha8nH5"
      }
    },
    {
      "cell_type": "markdown",
      "source": [
        "# **11. What is method overloading in Python?**\n",
        "\n",
        "Method overloading is the ability to define multiple methods in a class with the same name but different parameters. In many programming languages (like Java or C++), this is done by defining several methods with different argument lists.\n",
        "\n",
        "\n",
        "**In Python, method overloading is not supported in the traditional sense.**\n",
        "\n",
        "If you define multiple methods with the same name, only the last one is kept, as Python doesn't support true function signature-based overloading.\n",
        "\n",
        "Example:\n"
      ],
      "metadata": {
        "id": "PcXNVSN98oyg"
      }
    },
    {
      "cell_type": "code",
      "source": [
        "class Demo:\n",
        "    def show(self, a):\n",
        "        print(\"One argument:\", a)\n",
        "\n",
        "    def show(self, a, b):  # This overwrites the first method\n",
        "        print(\"Two arguments:\", a, b)\n",
        "\n",
        "obj = Demo()\n",
        "obj.show(1, 2)  # Works\n",
        "# obj.show(1)   # Error: missing 1 required positional argument\n"
      ],
      "metadata": {
        "colab": {
          "base_uri": "https://localhost:8080/"
        },
        "id": "pyW72TIg9J6m",
        "outputId": "66eb34e1-611d-4566-aa31-173bafc5a93f"
      },
      "execution_count": 7,
      "outputs": [
        {
          "output_type": "stream",
          "name": "stdout",
          "text": [
            "Two arguments: 1 2\n"
          ]
        }
      ]
    },
    {
      "cell_type": "markdown",
      "source": [
        "**Workaround in Python: Using Default or Variable Arguments**\n",
        "\n",
        "To simulate method overloading, you can use:\n",
        "\n",
        "\n",
        "\n",
        "*   Default arguments\n",
        "*   *args and **kwargs to accept variable numbers of arguments\n",
        "\n",
        "Using Default Arguments:\n",
        "\n"
      ],
      "metadata": {
        "id": "_nUtcTzJ9O7P"
      }
    },
    {
      "cell_type": "code",
      "source": [
        "class Demo:\n",
        "    def show(self, a=None, b=None):\n",
        "        if a is not None and b is not None:\n",
        "            print(\"Two arguments:\", a, b)\n",
        "        elif a is not None:\n",
        "            print(\"One argument:\", a)\n",
        "        else:\n",
        "            print(\"No arguments\")\n",
        "\n",
        "obj = Demo()\n",
        "obj.show()\n",
        "obj.show(5)\n",
        "obj.show(5, 10)\n"
      ],
      "metadata": {
        "colab": {
          "base_uri": "https://localhost:8080/"
        },
        "id": "K0YoQy0v9KY3",
        "outputId": "92aca135-cb7d-4c74-93e5-24293de15103"
      },
      "execution_count": 8,
      "outputs": [
        {
          "output_type": "stream",
          "name": "stdout",
          "text": [
            "No arguments\n",
            "One argument: 5\n",
            "Two arguments: 5 10\n"
          ]
        }
      ]
    },
    {
      "cell_type": "markdown",
      "source": [
        "\n",
        "\n",
        "*   Python does not support method overloading like Java/C++.\n",
        "*   You can simulate it using default parameters or *args/**kwargs.\n",
        "\n"
      ],
      "metadata": {
        "id": "cuL-wdbE9jOy"
      }
    },
    {
      "cell_type": "markdown",
      "source": [
        "# **12. What is method overriding in OOP?**\n",
        "\n",
        "Method overriding is a key feature of polymorphism in object-oriented programming. It occurs when a subclass provides a specific implementation of a method that is already defined in its parent (super) class.\n",
        "\n",
        "**Key Characteristics:**\n",
        "\n",
        "\n",
        "*   The method in the child class has the same name, arguments, and return type as in the parent class.\n",
        "*   The child class's version of the method replaces the parent's version when called through a child class object.\n",
        "\n",
        "**Basic Example:**\n",
        "\n"
      ],
      "metadata": {
        "id": "URrWojfk9ti1"
      }
    },
    {
      "cell_type": "code",
      "source": [
        "class Animal:\n",
        "    def speak(self):\n",
        "        print(\"The animal makes a sound\")\n",
        "\n",
        "class Dog(Animal):\n",
        "    def speak(self):\n",
        "        print(\"The dog barks\")\n",
        "\n",
        "# Usage\n",
        "a = Animal()\n",
        "a.speak()  # Output: The animal makes a sound\n",
        "\n",
        "d = Dog()\n",
        "d.speak()  # Output: The dog barks\n",
        "#Here, the Dog class overrides the speak() method of the Animal class."
      ],
      "metadata": {
        "colab": {
          "base_uri": "https://localhost:8080/"
        },
        "id": "Hmtbc--N9fYq",
        "outputId": "a7f19ca7-835a-4485-f4c6-8ad47adb938f"
      },
      "execution_count": 9,
      "outputs": [
        {
          "output_type": "stream",
          "name": "stdout",
          "text": [
            "The animal makes a sound\n",
            "The dog barks\n"
          ]
        }
      ]
    },
    {
      "cell_type": "markdown",
      "source": [
        "**Calling the Parent Method Using super()**\n",
        "\n",
        "You can still call the parent class's version of the method inside the overridden method using super().\n"
      ],
      "metadata": {
        "id": "3CtLKAW5-NrD"
      }
    },
    {
      "cell_type": "code",
      "source": [
        "class Dog(Animal):\n",
        "    def speak(self):\n",
        "        super().speak()  # Call parent method\n",
        "        print(\"The dog barks\")\n"
      ],
      "metadata": {
        "id": "g7wNCaDj-Gfx"
      },
      "execution_count": 10,
      "outputs": []
    },
    {
      "cell_type": "markdown",
      "source": [
        "| Feature            | Method Overriding                  |\n",
        "| ------------------ | ---------------------------------- |\n",
        "| Location           | In parent and child classes        |\n",
        "| Method Signature   | Must be the same                   |\n",
        "| Purpose            | Change behavior in a subclass      |\n",
        "| Keyword (optional) | `super()` to access parent version |\n"
      ],
      "metadata": {
        "id": "_NU5AYRS-VQI"
      }
    },
    {
      "cell_type": "markdown",
      "source": [
        "# **13. What is a property decorator in Python?**\n",
        "\n",
        "The @property decorator in Python is used to turn a method into a read-only property, allowing you to access it like an attribute — without parentheses — while still executing code behind the scenes.\n",
        "\n",
        "It’s part of Python’s built-in support for encapsulation and is often used to control access to private variables.\n",
        "\n"
      ],
      "metadata": {
        "id": "zHn4XdWk-Wii"
      }
    },
    {
      "cell_type": "code",
      "source": [
        "class Person:\n",
        "    def __init__(self, name):\n",
        "        self._name = name\n",
        "\n",
        "    @property\n",
        "    def name(self):\n",
        "        print(\"Getting name...\")\n",
        "        return self._name\n",
        "\n",
        "# Usage\n",
        "p = Person(\"Alice\")\n",
        "print(p.name)  # Access like an attribute, calls the name() method\n"
      ],
      "metadata": {
        "colab": {
          "base_uri": "https://localhost:8080/"
        },
        "id": "TAXlBrN0-TE9",
        "outputId": "91d99ef3-cc51-41b9-9b4b-13fb11435653"
      },
      "execution_count": 11,
      "outputs": [
        {
          "output_type": "stream",
          "name": "stdout",
          "text": [
            "Getting name...\n",
            "Alice\n"
          ]
        }
      ]
    },
    {
      "cell_type": "markdown",
      "source": [
        "**Adding a Setter with @<property>.setter:**\n",
        "\n",
        "You can also define a setter to allow controlled modification:"
      ],
      "metadata": {
        "id": "i2GlsGAu-pAi"
      }
    },
    {
      "cell_type": "code",
      "source": [
        "class Person:\n",
        "    def __init__(self, name):\n",
        "        self._name = name\n",
        "\n",
        "    @property\n",
        "    def name(self):\n",
        "        return self._name\n",
        "\n",
        "    @name.setter\n",
        "    def name(self, value):\n",
        "        if not value:\n",
        "            raise ValueError(\"Name cannot be empty\")\n",
        "        self._name = value\n",
        "\n"
      ],
      "metadata": {
        "id": "FD6FNFSM-mE4"
      },
      "execution_count": 14,
      "outputs": []
    },
    {
      "cell_type": "code",
      "source": [
        "p = Person(\"Alice\")\n",
        "p.name = \"Bob\"      # Calls the setter\n",
        "print(p.name)       # Calls the getter"
      ],
      "metadata": {
        "colab": {
          "base_uri": "https://localhost:8080/"
        },
        "id": "LpbAugLV-tlW",
        "outputId": "bac71622-0d74-4675-867c-2727a5b0839b"
      },
      "execution_count": 15,
      "outputs": [
        {
          "output_type": "stream",
          "name": "stdout",
          "text": [
            "Bob\n"
          ]
        }
      ]
    },
    {
      "cell_type": "markdown",
      "source": [
        "**Why Use @property?**\n",
        "\n",
        "\n",
        "\n",
        "*   Provides encapsulation while maintaining a clean interface\n",
        "*   Allows you to later add validation or computation without changing how code accesses the attribute\n",
        "*   Avoids direct exposure of internal data\n",
        "\n",
        "\n",
        "| Feature           | Description                                   |\n",
        "| ----------------- | --------------------------------------------- |\n",
        "| `@property`       | Makes a method accessible like an attribute   |\n",
        "| `@<prop>.setter`  | Allows setting the attribute value with logic |\n",
        "| `@<prop>.deleter` | Allows deletion logic if needed               |\n",
        "\n",
        "\n",
        "\n",
        "\n"
      ],
      "metadata": {
        "id": "HiGreONA-7w6"
      }
    },
    {
      "cell_type": "markdown",
      "source": [
        "# **14. Why is polymorphism important in OOP?**\n",
        "\n",
        "Polymorphism means \"many forms\" — in object-oriented programming, it allows different classes to be treated through a common interface, even though they may implement behaviors differently.\n",
        "\n",
        "**Key Reasons Why Polymorphism Is Important:**\n",
        "\n",
        "**1. Code Reusability:**\n",
        "You can write generic code that works with objects of different classes, reducing duplication and improving maintainability.\n",
        "\n",
        "**2. Flexibility and Extensibility:**\n",
        "New classes can be added with minimal changes to existing code, as long as they follow the expected interface.\n",
        "\n",
        "**3. Improves Readability:**\n",
        "You can call the same method (.speak(), .draw(), etc.) on different objects without worrying about their concrete class.\n",
        "\n",
        "**4. Supports Loose Coupling:**\n",
        "Code that uses polymorphic behavior depends on abstractions (like base classes or interfaces), not specific implementations. This makes it easier to change or extend parts of the system independently.\n",
        "\n"
      ],
      "metadata": {
        "id": "rpUUkEjP_MxY"
      }
    },
    {
      "cell_type": "code",
      "source": [
        "class Animal:\n",
        "    def speak(self):\n",
        "        pass\n",
        "\n",
        "class Dog(Animal):\n",
        "    def speak(self):\n",
        "        return \"Bark\"\n",
        "\n",
        "class Cat(Animal):\n",
        "    def speak(self):\n",
        "        return \"Meow\"\n",
        "\n",
        "# Polymorphic behavior\n",
        "def make_animal_speak(animal):\n",
        "    print(animal.speak())\n",
        "\n",
        "# Usage\n",
        "make_animal_speak(Dog())  # Output: Bark\n",
        "make_animal_speak(Cat())  # Output: Meow\n"
      ],
      "metadata": {
        "colab": {
          "base_uri": "https://localhost:8080/"
        },
        "id": "KkUt2fZG-4fY",
        "outputId": "7e837d6a-8cee-42da-8b04-82be1d42f4da"
      },
      "execution_count": 16,
      "outputs": [
        {
          "output_type": "stream",
          "name": "stdout",
          "text": [
            "Bark\n",
            "Meow\n"
          ]
        }
      ]
    },
    {
      "cell_type": "markdown",
      "source": [
        "Two Types of Polymorphism in Python:\n",
        "\n",
        "1. Compile-Time Polymorphism (not truly supported): Simulated with default args or *args (method overloading)\n",
        "\n",
        "2. Run-Time Polymorphism: Achieved through method overriding and duck typing.\n",
        "\n",
        "\n",
        "\n",
        "Polymorphism is essential in OOP because it enables Generalized interfaces, More reusable and flexible code and Easy system scalability and maintenance.\n"
      ],
      "metadata": {
        "id": "nsBqJqex_1UG"
      }
    },
    {
      "cell_type": "markdown",
      "source": [
        "# **15. What is an abstract class in Python?**\n",
        "\n",
        "An abstract class in Python is a class that cannot be instantiated directly and is meant to be subclassed. It typically contains one or more abstract methods — methods that are declared but not implemented in the base class.\n",
        "\n",
        "Abstract classes are used to define a common interface for a group of subclasses, ensuring that certain methods are implemented in all child classes.\n",
        "\n",
        "**Defined Using the abc Module**\n",
        "\n",
        "Python uses the built-in abc module (abc stands for Abstract Base Classes) to define abstract classes.\n",
        "\n",
        "**Key components:**\n",
        "\n",
        "\n",
        "\n",
        "*   ABC: Base class for defining abstract classes\n",
        "*   @abstractmethod: Decorator to mark methods as abstract\n",
        "\n"
      ],
      "metadata": {
        "id": "h-vWcOQLANb7"
      }
    },
    {
      "cell_type": "code",
      "source": [
        "from abc import ABC, abstractmethod\n",
        "\n",
        "class Animal(ABC):\n",
        "    @abstractmethod\n",
        "    def speak(self):\n",
        "        pass\n",
        "\n",
        "class Dog(Animal):\n",
        "    def speak(self):\n",
        "        return \"Bark\"\n",
        "\n",
        "class Cat(Animal):\n",
        "    def speak(self):\n",
        "        return \"Meow\"\n",
        "\n",
        "# a = Animal()  # ❌ Error: Can't instantiate abstract class\n",
        "d = Dog()\n",
        "print(d.speak())  # Output: Bark\n"
      ],
      "metadata": {
        "colab": {
          "base_uri": "https://localhost:8080/"
        },
        "id": "QwMW7yVa_ydS",
        "outputId": "b02b9cd8-f2f2-40c3-bba9-321508cbbff0"
      },
      "execution_count": 17,
      "outputs": [
        {
          "output_type": "stream",
          "name": "stdout",
          "text": [
            "Bark\n"
          ]
        }
      ]
    },
    {
      "cell_type": "markdown",
      "source": [
        "**Why Use Abstract Classes?**\n",
        "\n",
        "| Benefit                        | Description                                             |\n",
        "| ------------------------------ | ------------------------------------------------------- |\n",
        "| Enforces method implementation | Ensures that all subclasses implement required methods  |\n",
        "| Provides a common interface    | Allows polymorphic behavior and loose coupling          |\n",
        "| Improves code organization     | Clearly separates abstract behavior from concrete logic |\n"
      ],
      "metadata": {
        "id": "yrwzY70AAxmo"
      }
    },
    {
      "cell_type": "markdown",
      "source": [
        "# **16. What are the advantages of OOP?**\n",
        "\n",
        "Object-Oriented Programming brings structure, scalability, and reusability to software design. In Python, OOP is cleanly integrated and widely used. Here are its key advantages:\n",
        "\n",
        "1. Modularity:\n",
        "\n",
        "\n",
        "*   Code is organized into classes, making it easier to manage and understand.\n",
        "*   Each class encapsulates its own data and behavior.\n",
        "\n",
        "2. Reusability (via Inheritance):\n",
        "\n",
        "\n",
        "*   You can create new classes by reusing existing ones.\n",
        "*   Avoids code duplication by inheriting attributes and methods.\n",
        "\n",
        "3. Encapsulation:\n",
        "\n",
        "\n",
        "*   Keeps data safe from unintended access or modification.\n",
        "*   Use of private and protected members with access through methods.\n",
        "\n",
        "4. Polymorphism:\n",
        "\n",
        "\n",
        "*   Write flexible code that can work with different types of objects through a common interface.\n",
        "*   Reduces complexity by using the same method names across different classes.\n",
        "\n",
        "5. Scalability and Maintainability:\n",
        "\n",
        "\n",
        "*  Easier to modify or extend existing code.\n",
        "*  Better structure allows large systems to evolve without chaos.\n",
        "\n",
        "6. Abstraction:\n",
        "\n",
        "*   Hides complex implementation details.\n",
        "*   Focuses on what an object does rather than how it does it.\n",
        "\n",
        "7. Improved Code Readability:\n",
        "\n",
        "\n",
        "*   Classes and objects mirror real-world entities, making the code more intuitive.\n",
        "*   Encourages logical grouping of related functionality.\n",
        "\n",
        "8. Built-in Support in Python:\n",
        "\n",
        "\n",
        "*   Python has rich support for OOP features: classes, inheritance, magic methods (__init__, __str__, etc.), and abstract base classes.\n",
        "*   Python’s syntax is concise, making OOP easier to implement than in many other languages.\n",
        "\n",
        "| Feature       | Benefit                                  |\n",
        "| ------------- | ---------------------------------------- |\n",
        "| Encapsulation | Protects data and hides internal details |\n",
        "| Inheritance   | Promotes code reuse                      |\n",
        "| Polymorphism  | Enhances flexibility and scalability     |\n",
        "| Abstraction   | Reduces complexity for the user          |\n",
        "| Modularity    | Makes code manageable and organized      |\n",
        "\n",
        "\n",
        "\n",
        "\n",
        "\n",
        "\n",
        "\n",
        "\n",
        "\n",
        "\n",
        "\n",
        "\n",
        "\n",
        "\n",
        "\n",
        "\n"
      ],
      "metadata": {
        "id": "iTYg86VJA5H3"
      }
    },
    {
      "cell_type": "markdown",
      "source": [
        "# **17. What is the difference between a class variable and an instance variable?**\n",
        "\n",
        "In Python's object-oriented programming, class variables and instance variables are used to store data, but they differ in scope, lifetime, and how they're shared between objects.\n",
        "\n",
        "**1. Class Variable:**\n",
        "\n",
        "\n",
        "*   Belongs to the class, shared by all instances.\n",
        "*   Defined outside any method, directly inside the class body.\n",
        "*   Used to store data that's common to all objects of the class.\n",
        "\n",
        "\n",
        "\n",
        "\n"
      ],
      "metadata": {
        "id": "FrFAlb21CVoe"
      }
    },
    {
      "cell_type": "code",
      "source": [
        "class Car:\n",
        "    wheels = 4  # Class variable\n",
        "\n",
        "car1 = Car()\n",
        "car2 = Car()\n",
        "\n",
        "print(car1.wheels)  # Output: 4\n",
        "print(car2.wheels)  # Output: 4\n",
        "\n",
        "Car.wheels = 6\n",
        "print(car1.wheels)  # Output: 6 (updated for all instances)\n"
      ],
      "metadata": {
        "colab": {
          "base_uri": "https://localhost:8080/"
        },
        "id": "FGebnZVcAuxa",
        "outputId": "87391551-05aa-4a8c-fb7d-a7a8cbf3a00d"
      },
      "execution_count": 18,
      "outputs": [
        {
          "output_type": "stream",
          "name": "stdout",
          "text": [
            "4\n",
            "4\n",
            "6\n"
          ]
        }
      ]
    },
    {
      "cell_type": "markdown",
      "source": [
        "**2. Instance Variable:**\n",
        "\n",
        "\n",
        "\n",
        "*   Belongs to a specific object (instance).\n",
        "*   Defined inside methods using self, usually in __init__.\n",
        "*   Used to store object-specific data.\n",
        "\n",
        "\n",
        "\n",
        "\n"
      ],
      "metadata": {
        "id": "X_GTiNvgO4Fc"
      }
    },
    {
      "cell_type": "code",
      "source": [
        "class Car:\n",
        "    def __init__(self, color):\n",
        "        self.color = color  # Instance variable\n",
        "\n",
        "car1 = Car(\"Red\")\n",
        "car2 = Car(\"Blue\")\n",
        "\n",
        "print(car1.color)  # Output: Red\n",
        "print(car2.color)  # Output: Blue\n"
      ],
      "metadata": {
        "colab": {
          "base_uri": "https://localhost:8080/"
        },
        "id": "7f63MM10O0gC",
        "outputId": "c8477b3e-bf09-4967-e5cd-e5d150c64ca5"
      },
      "execution_count": 19,
      "outputs": [
        {
          "output_type": "stream",
          "name": "stdout",
          "text": [
            "Red\n",
            "Blue\n"
          ]
        }
      ]
    },
    {
      "cell_type": "markdown",
      "source": [
        "| Feature              | **Class Variable**                        | **Instance Variable**                |\n",
        "| -------------------- | ----------------------------------------- | ------------------------------------ |\n",
        "| **Belongs to**       | Class                                     | Instance (object)                    |\n",
        "| **Defined using**    | Directly in class body                    | Inside methods using `self.variable` |\n",
        "| **Shared by**        | All instances of the class                | Unique to each instance              |\n",
        "| **Modified using**   | `ClassName.variable` or `object.variable` | `self.variable`                      |\n",
        "| **Stored in**        | Class's `__dict__`                        | Object's `__dict__`                  |\n",
        "| **Typical Use Case** | Constants, counters, shared settings      | Attributes like `name`, `age`, etc.  |\n"
      ],
      "metadata": {
        "id": "dGK62KEaPMsP"
      }
    },
    {
      "cell_type": "markdown",
      "source": [
        "# **18. What is multiple inheritance in Python?**\n",
        "\n",
        "Multiple inheritance is a feature in Python where a class can inherit from more than one parent class. This allows a child class to access attributes and methods from all its base classes.\n",
        "\n"
      ],
      "metadata": {
        "id": "Yn9oAP_2PN6T"
      }
    },
    {
      "cell_type": "code",
      "source": [
        "#Basic Syntax:\n",
        "class Parent1:\n",
        "    def method1(self):\n",
        "        print(\"Method from Parent1\")\n",
        "\n",
        "class Parent2:\n",
        "    def method2(self):\n",
        "        print(\"Method from Parent2\")\n",
        "\n",
        "class Child(Parent1, Parent2):\n",
        "    pass\n",
        "\n",
        "c = Child()\n",
        "c.method1()  # Inherited from Parent1\n",
        "c.method2()  # Inherited from Parent2\n"
      ],
      "metadata": {
        "colab": {
          "base_uri": "https://localhost:8080/"
        },
        "id": "1-kJuomZPJuC",
        "outputId": "285d166d-e137-4375-9a46-5e7b8c8b02bb"
      },
      "execution_count": 20,
      "outputs": [
        {
          "output_type": "stream",
          "name": "stdout",
          "text": [
            "Method from Parent1\n",
            "Method from Parent2\n"
          ]
        }
      ]
    },
    {
      "cell_type": "markdown",
      "source": [
        "**Why Use Multiple Inheritance?**\n",
        "\n",
        "\n",
        "\n",
        "*   To combine behavior from multiple classes\n",
        "*   Useful in mixin patterns (e.g., adding logging, serialization, etc.)\n",
        "\n",
        "**Potential Issue: Diamond Problem**\n",
        "\n",
        "Occurs when multiple parents inherit from a common ancestor, and the child inherits from them both.\n",
        "\n",
        "Example:\n",
        "\n"
      ],
      "metadata": {
        "id": "ggy6L3HHPpIs"
      }
    },
    {
      "cell_type": "code",
      "source": [
        "class A:\n",
        "    def show(self):\n",
        "        print(\"A\")\n",
        "\n",
        "class B(A):\n",
        "    def show(self):\n",
        "        print(\"B\")\n",
        "\n",
        "class C(A):\n",
        "    def show(self):\n",
        "        print(\"C\")\n",
        "\n",
        "class D(B, C):\n",
        "    pass\n",
        "\n",
        "d = D()\n",
        "d.show()  # Output: B (because of Method Resolution Order - MRO)\n"
      ],
      "metadata": {
        "colab": {
          "base_uri": "https://localhost:8080/"
        },
        "id": "UYVb0QIlPmBP",
        "outputId": "7887c4d5-1ed6-43ba-e4b9-906bc04ca03d"
      },
      "execution_count": 21,
      "outputs": [
        {
          "output_type": "stream",
          "name": "stdout",
          "text": [
            "B\n"
          ]
        }
      ]
    },
    {
      "cell_type": "markdown",
      "source": [
        "Python resolves this using the C3 Linearization Algorithm (a.k.a. MRO) to determine the order in which classes are searched.\n",
        "\n",
        "Check MRO:"
      ],
      "metadata": {
        "id": "_cFMPi65P-6t"
      }
    },
    {
      "cell_type": "code",
      "source": [
        "print(D.__mro__)"
      ],
      "metadata": {
        "colab": {
          "base_uri": "https://localhost:8080/"
        },
        "id": "ciCkrmo4P5Ah",
        "outputId": "77a9a2ca-1332-45de-9a91-5f367b7d4f5a"
      },
      "execution_count": 22,
      "outputs": [
        {
          "output_type": "stream",
          "name": "stdout",
          "text": [
            "(<class '__main__.D'>, <class '__main__.B'>, <class '__main__.C'>, <class '__main__.A'>, <class 'object'>)\n"
          ]
        }
      ]
    },
    {
      "cell_type": "markdown",
      "source": [
        "| Concept                           | Description                                                |\n",
        "| --------------------------------- | ---------------------------------------------------------- |\n",
        "| **Multiple Inheritance**          | A class inherits from more than one class                  |\n",
        "| **MRO (Method Resolution Order)** | Determines the order of method lookup in inheritance chain |\n",
        "| **Diamond Problem**               | Ambiguity from shared ancestors, handled by Python's MRO   |\n"
      ],
      "metadata": {
        "id": "oWZFjoLIQDz8"
      }
    },
    {
      "cell_type": "markdown",
      "source": [
        "# **19. Explain the purpose of ‘’__str__’ and ‘__repr__’ ‘ methods in Python.**\n",
        "\n",
        "\n",
        "Both __str__() and __repr__() are special methods in Python used to define how objects of a class should be represented as strings. They serve different audiences and purposes:\n",
        "\n",
        "**1. __str__() — User-Friendly String Representation**\n",
        "\n",
        "\n",
        "\n",
        "*   Used by the built-in str() function and print().\n",
        "*   Should return a readable, user-friendly description of the object.\n",
        "*   Goal: Make it clear and human-readable.\n",
        "\n",
        "Example:\n",
        "\n",
        "\n",
        "\n",
        "\n"
      ],
      "metadata": {
        "id": "D53TkmveQE7v"
      }
    },
    {
      "cell_type": "code",
      "source": [
        "class Book:\n",
        "    def __init__(self, title):\n",
        "        self.title = title\n",
        "\n",
        "    def __str__(self):\n",
        "        return f\"Book: {self.title}\"\n",
        "\n",
        "b = Book(\"1984\")\n",
        "print(b)          # Output: Book: 1984\n",
        "print(str(b))     # Output: Book: 1984\n"
      ],
      "metadata": {
        "colab": {
          "base_uri": "https://localhost:8080/"
        },
        "id": "5AcfABvWQBL1",
        "outputId": "482b208b-3b79-4225-a143-085802c8e8f5"
      },
      "execution_count": 23,
      "outputs": [
        {
          "output_type": "stream",
          "name": "stdout",
          "text": [
            "Book: 1984\n",
            "Book: 1984\n"
          ]
        }
      ]
    },
    {
      "cell_type": "markdown",
      "source": [
        "**2. __repr__() — Developer-Friendly/Debug Representation**\n",
        "\n",
        "\n",
        "\n",
        "*   Used by repr() and by default in the interactive shell.\n",
        "*   Should return a valid Python expression (if possible) that can recreate the object or show its structure.\n",
        "*   Goal: Be unambiguous and suitable for debugging.\n",
        "\n",
        "Example:\n",
        "\n",
        "\n",
        "\n",
        "\n"
      ],
      "metadata": {
        "id": "CwXOtGYfQqNB"
      }
    },
    {
      "cell_type": "code",
      "source": [
        "class Book:\n",
        "    def __init__(self, title):\n",
        "        self.title = title\n",
        "\n",
        "    def __repr__(self):\n",
        "        return f\"Book('{self.title}')\"\n",
        "\n",
        "b = Book(\"1984\")\n",
        "print(repr(b))    # Output: Book('1984')\n"
      ],
      "metadata": {
        "colab": {
          "base_uri": "https://localhost:8080/"
        },
        "id": "OqAxSBLAQnyo",
        "outputId": "c41d541e-e94e-49f1-e469-4bcc5240d318"
      },
      "execution_count": 24,
      "outputs": [
        {
          "output_type": "stream",
          "name": "stdout",
          "text": [
            "Book('1984')\n"
          ]
        }
      ]
    },
    {
      "cell_type": "markdown",
      "source": [
        "**What Happens if You Define Only One?**\n",
        "\n",
        "\n",
        "\n",
        "*   If only __str__() is defined, repr() will fall back to it in some contexts.\n",
        "*   If only __repr__() is defined, str() will use it too.\n",
        "\n",
        "| Feature      | `__str__()`                            | `__repr__()`                        |\n",
        "| ------------ | -------------------------------------- | ----------------------------------- |\n",
        "| Purpose      | User-readable output                   | Developer/debugging output          |\n",
        "| Used by      | `print()`, `str()`                     | `repr()`, interactive console       |\n",
        "| Output style | Informal, readable                     | Formal, unambiguous                 |\n",
        "| Fallback     | If missing, falls back to `__repr__()` | Used even if `__str__()` is missing |\n",
        "\n",
        "\n"
      ],
      "metadata": {
        "id": "qeUYiyLoQ8kg"
      }
    },
    {
      "cell_type": "code",
      "source": [
        "#Implement both in custom classes:\n",
        "def __str__(self):\n",
        "    return \"User-friendly info\"\n",
        "\n",
        "def __repr__(self):\n",
        "    return \"Detailed dev info\"\n"
      ],
      "metadata": {
        "id": "DtFfEBkJQ5zS"
      },
      "execution_count": 25,
      "outputs": []
    },
    {
      "cell_type": "markdown",
      "source": [
        "# **20. What is the significance of the ‘super()’ function in Python?**\n",
        "\n",
        "The super() function in Python is used to call a method from a parent (super) class. It’s especially useful in inheritance when a subclass wants to extend or modify the behavior of a parent class method without completely overriding it.\n",
        "\n",
        "Key Uses of super():\n",
        "\n",
        "1. Access parent class methods/constructors\n",
        "2. Promotes code reuse\n",
        "3. Supports cooperative multiple inheritance\n",
        "4. Avoids hardcoding parent class names\n",
        "\n",
        "Example – Calling Parent’s __init__ Method:"
      ],
      "metadata": {
        "id": "jXtP397ARS2g"
      }
    },
    {
      "cell_type": "code",
      "source": [
        "class Animal:\n",
        "    def __init__(self, name):\n",
        "        self.name = name\n",
        "        print(f\"Animal initialized with name: {self.name}\")\n",
        "\n",
        "class Dog(Animal):\n",
        "    def __init__(self, name, breed):\n",
        "        super().__init__(name)  # Call parent constructor\n",
        "        self.breed = breed\n",
        "        print(f\"Dog initialized with breed: {self.breed}\")\n",
        "\n",
        "d = Dog(\"Buddy\", \"Labrador\")\n"
      ],
      "metadata": {
        "colab": {
          "base_uri": "https://localhost:8080/"
        },
        "id": "j18z8dvJRMmN",
        "outputId": "7063fc05-bfb4-4d3e-c8b6-a5d3c452bda8"
      },
      "execution_count": 26,
      "outputs": [
        {
          "output_type": "stream",
          "name": "stdout",
          "text": [
            "Animal initialized with name: Buddy\n",
            "Dog initialized with breed: Labrador\n"
          ]
        }
      ]
    },
    {
      "cell_type": "markdown",
      "source": [
        "**Why Use super() Instead of Direct Parent Class Name?**\n",
        "\n",
        "\n",
        "\n",
        "*   Easier to maintain (especially with multiple inheritance)\n",
        "*   Supports Method Resolution Order (MRO) in complex class hierarchies\n",
        "*   Avoids calling the wrong version of a method when classes are refactored\n",
        "\n",
        "**How super() Works in Multiple Inheritance:**\n",
        "\n",
        "\n",
        "\n",
        "\n"
      ],
      "metadata": {
        "id": "Fi9mKicSRzpV"
      }
    },
    {
      "cell_type": "code",
      "source": [
        "class A:\n",
        "    def greet(self):\n",
        "        print(\"Hello from A\")\n",
        "\n",
        "class B(A):\n",
        "    def greet(self):\n",
        "        super().greet()\n",
        "        print(\"Hello from B\")\n",
        "\n",
        "class C(B):\n",
        "    def greet(self):\n",
        "        super().greet()\n",
        "        print(\"Hello from C\")\n",
        "\n",
        "c = C()\n",
        "c.greet()\n"
      ],
      "metadata": {
        "colab": {
          "base_uri": "https://localhost:8080/"
        },
        "id": "mYPhLmusRxX6",
        "outputId": "2c7f1791-50aa-4d7c-dd5d-60248c79c316"
      },
      "execution_count": 27,
      "outputs": [
        {
          "output_type": "stream",
          "name": "stdout",
          "text": [
            "Hello from A\n",
            "Hello from B\n",
            "Hello from C\n"
          ]
        }
      ]
    },
    {
      "cell_type": "markdown",
      "source": [
        "| Feature          | `super()` Function                               |\n",
        "| ---------------- | ------------------------------------------------ |\n",
        "| Purpose          | Call parent class methods                        |\n",
        "| Commonly used in | Constructors (`__init__`) and overridden methods |\n",
        "| Benefits         | Reusability, MRO support, clean syntax           |\n",
        "| Safer than       | Direct parent class reference                    |\n"
      ],
      "metadata": {
        "id": "ABg5PrD6SKzQ"
      }
    },
    {
      "cell_type": "markdown",
      "source": [
        "# **21. What is the significance of the __del__ method in Python?**\n",
        "\n",
        "\n",
        "The __del__() method in Python is a special method known as a destructor. It's called automatically when an object is about to be destroyed, i.e., when its reference count drops to zero and the memory is about to be reclaimed.\n",
        "\n",
        "\n",
        "**Purpose of __del__():**\n",
        "\n",
        "\n",
        "\n",
        "*   Used to clean up resources when an object is deleted\n",
        "*   Commonly used to close files, release network connections, or free external resources\n",
        "\n"
      ],
      "metadata": {
        "id": "U7dq0MQpSL1G"
      }
    },
    {
      "cell_type": "code",
      "source": [
        "class FileHandler:\n",
        "    def __init__(self, filename):\n",
        "        self.file = open(filename, 'w')\n",
        "        print(f\"File '{filename}' opened.\")\n",
        "\n",
        "    def __del__(self):\n",
        "        self.file.close()\n",
        "        print(\"File closed.\")\n",
        "\n",
        "f = FileHandler(\"example.txt\")\n",
        "del f  # Explicitly deletes the object, triggering __del__()\n"
      ],
      "metadata": {
        "colab": {
          "base_uri": "https://localhost:8080/"
        },
        "id": "QbNKQMeeSIsq",
        "outputId": "13c7bbd5-e2d2-4664-abbf-0bfecfde6f0f"
      },
      "execution_count": 28,
      "outputs": [
        {
          "output_type": "stream",
          "name": "stdout",
          "text": [
            "File 'example.txt' opened.\n",
            "File closed.\n"
          ]
        }
      ]
    },
    {
      "cell_type": "markdown",
      "source": [
        "**Important Notes on __del__():**\n",
        "\n",
        "| Concern                 | Explanation                                                                            |\n",
        "| ----------------------- | -------------------------------------------------------------------------------------- |\n",
        "| **Non-deterministic**   | You **can't predict exactly when** `__del__()` will be called.                         |\n",
        "| **GC involvement**      | Python uses **garbage collection**, so destruction may be delayed.                     |\n",
        "| **May not be called**   | If the program exits or has circular references, it might **never run**.               |\n",
        "| **Avoid complex logic** | Don’t put critical logic inside `__del__()` — it’s not guaranteed to execute reliably. |\n",
        "\n",
        "\n",
        "**Better Alternative: Use Context Managers (with statement):**\n",
        "For resource cleanup, context managers are preferred over __del__():"
      ],
      "metadata": {
        "id": "Oe7zpAzQSkto"
      }
    },
    {
      "cell_type": "code",
      "source": [
        "with open(\"example.txt\", \"w\") as f:\n",
        "    f.write(\"Hello\")\n",
        "# File is automatically closed after the block\n"
      ],
      "metadata": {
        "id": "E3DAJAbQShf0"
      },
      "execution_count": 29,
      "outputs": []
    },
    {
      "cell_type": "markdown",
      "source": [
        "| Feature     | `__del__()`                                           |\n",
        "| ----------- | ----------------------------------------------------- |\n",
        "| Purpose     | Destructor method (cleanup before object deletion)    |\n",
        "| Called when | Object is about to be garbage collected               |\n",
        "| Use cases   | Releasing unmanaged resources (e.g., files, sockets)  |\n",
        "| Limitation  | Not guaranteed to run, especially on interpreter exit |\n"
      ],
      "metadata": {
        "id": "FpKYsYNhSwr5"
      }
    },
    {
      "cell_type": "markdown",
      "source": [
        "# **22. What is the difference between @staticmethod and @classmethod in Python?**\n",
        "\n",
        "Both @staticmethod and @classmethod are decorators used to define special types of methods in a class, but they behave differently in how they access class or instance data.\n",
        "\n",
        "**1. @staticmethod:**\n",
        "\n",
        "\n",
        "\n",
        "*   Does not take self or cls as the first parameter.\n",
        "*   Can’t access or modify class or instance state.\n",
        "*   Behaves like a regular function, but lives in the class’s namespace.\n",
        "\n",
        "**Use Case:**\n",
        "Use when the method does not need to access class or instance data.\n",
        "\n",
        "Example:\n",
        "\n",
        "\n",
        "\n",
        "\n"
      ],
      "metadata": {
        "id": "djMYnFKWSxh9"
      }
    },
    {
      "cell_type": "code",
      "source": [
        "class Math:\n",
        "    @staticmethod\n",
        "    def add(x, y):\n",
        "        return x + y\n",
        "\n",
        "print(Math.add(3, 5))  # Output: 8\n"
      ],
      "metadata": {
        "colab": {
          "base_uri": "https://localhost:8080/"
        },
        "id": "9ZQWkzMpSu5j",
        "outputId": "317ec550-8851-4e61-d70c-53e56dd51b58"
      },
      "execution_count": 30,
      "outputs": [
        {
          "output_type": "stream",
          "name": "stdout",
          "text": [
            "8\n"
          ]
        }
      ]
    },
    {
      "cell_type": "markdown",
      "source": [
        "**2. @classmethod:**\n",
        "\n",
        "\n",
        "*   Takes cls as the first parameter, referring to the class, not an instance.\n",
        "*   Can access and modify class-level variables.\n",
        "*   Often used for factory methods that return class instances.\n",
        "\n",
        "**Use Case:**\n",
        "Use when the method needs to access or modify class state.\n",
        "\n",
        "Example:\n",
        "\n",
        "\n",
        "\n"
      ],
      "metadata": {
        "id": "7mEMqPBETV-Z"
      }
    },
    {
      "cell_type": "code",
      "source": [
        "class Person:\n",
        "    count = 0\n",
        "\n",
        "    def __init__(self):\n",
        "        Person.count += 1\n",
        "\n",
        "    @classmethod\n",
        "    def how_many(cls):\n",
        "        return cls.count\n",
        "\n",
        "p1 = Person()\n",
        "p2 = Person()\n",
        "print(Person.how_many())  # Output: 2\n"
      ],
      "metadata": {
        "colab": {
          "base_uri": "https://localhost:8080/"
        },
        "id": "VQcl_Y3fTT42",
        "outputId": "28b1a3c0-00fa-4b80-b813-b26c4129194e"
      },
      "execution_count": 31,
      "outputs": [
        {
          "output_type": "stream",
          "name": "stdout",
          "text": [
            "2\n"
          ]
        }
      ]
    },
    {
      "cell_type": "markdown",
      "source": [
        "| Feature                | `@staticmethod`        | `@classmethod`                     |\n",
        "| ---------------------- | ---------------------- | ---------------------------------- |\n",
        "| First Argument         | None                   | `cls` (refers to class)            |\n",
        "| Access Instance Data   |  No                   | No                               |\n",
        "| Access Class Data      |  No                   |  Yes                              |\n",
        "| Can Modify Class State |  No                   |  Yes                              |\n",
        "| Called via             | Class or instance      | Class or instance                  |\n",
        "| Typical Use Case       | Utility/helper methods | Alternative constructors, counters |\n",
        "\n",
        "\n",
        "**Summary:**\n",
        "1. Use @staticmethod when the method is independent of class and instance.\n",
        "\n",
        "2. Use @classmethod when the method operates on the class, not a specific object."
      ],
      "metadata": {
        "id": "3bZFMfHDTvKu"
      }
    },
    {
      "cell_type": "markdown",
      "source": [
        "# **23. How does polymorphism work in Python with inheritance?**\n",
        "\n",
        "Polymorphism in Python allows objects of different classes to be treated through a common interface, especially when those classes are related through inheritance. It enables the same method name to behave differently depending on the object calling it.\n",
        "\n",
        "**Polymorphism via Inheritance:**\n",
        "When a child class overrides a method from its parent class, and you call that method through a reference to the parent, Python will execute the child class’s version of the method.\n",
        "\n",
        "Example:"
      ],
      "metadata": {
        "id": "m0WjQURKUGQd"
      }
    },
    {
      "cell_type": "code",
      "source": [
        "class Animal:\n",
        "    def speak(self):\n",
        "        return \"Some sound\"\n",
        "\n",
        "class Dog(Animal):\n",
        "    def speak(self):\n",
        "        return \"Bark\"\n",
        "\n",
        "class Cat(Animal):\n",
        "    def speak(self):\n",
        "        return \"Meow\"\n",
        "\n",
        "def animal_sound(animal):\n",
        "    print(animal.speak())\n",
        "\n",
        "# Using polymorphism\n",
        "a = Animal()\n",
        "d = Dog()\n",
        "c = Cat()\n",
        "\n",
        "animal_sound(a)  # Output: Some sound\n",
        "animal_sound(d)  # Output: Bark\n",
        "animal_sound(c)  # Output: Meow\n"
      ],
      "metadata": {
        "colab": {
          "base_uri": "https://localhost:8080/"
        },
        "id": "iwq3wsq2Ts7o",
        "outputId": "f9c07658-4b8a-4aef-92bb-b04d1ff86350"
      },
      "execution_count": 32,
      "outputs": [
        {
          "output_type": "stream",
          "name": "stdout",
          "text": [
            "Some sound\n",
            "Bark\n",
            "Meow\n"
          ]
        }
      ]
    },
    {
      "cell_type": "markdown",
      "source": [
        "Here, even though animal_sound() expects an Animal object, it works correctly with Dog and Cat because they inherit from Animal and override the speak() method. This is runtime polymorphism in action.\n",
        "\n",
        "**How It Works Internally:**\n",
        "\n",
        "Python uses dynamic (late) binding — the method that gets called is determined at runtime, based on the object’s actual class.\n",
        "\n",
        "**Benefits of Polymorphism with Inheritance:**\n",
        "\n",
        "\n",
        "\n",
        "*   Simplifies code by allowing generalized functions.\n",
        "*   Makes systems extensible — new classes can plug into existing code.\n",
        "*   Enables decoupled architecture: code depends on abstract behavior, not concrete implementations.\n",
        "\n",
        "\n",
        "\n",
        "\n"
      ],
      "metadata": {
        "id": "om41UOgwUnwX"
      }
    },
    {
      "cell_type": "markdown",
      "source": [
        "# **24. What is method chaining in Python OOP?**\n",
        "\n",
        "Method chaining is a technique where you call multiple methods on the same object in a single line, by having each method return self.\n",
        "\n",
        "This is common in fluent APIs or builder patterns, and it helps write concise and readable code.\n",
        "\n",
        "**How It Works:**\n",
        "\n",
        "\n",
        "*   Each method performs an action and returns self (the current object).\n",
        "*   This allows you to chain another method call on the result.\n",
        "\n",
        "Example:\n",
        "\n"
      ],
      "metadata": {
        "id": "s36SwDlQU6ti"
      }
    },
    {
      "cell_type": "code",
      "source": [
        "class Person:\n",
        "    def __init__(self, name):\n",
        "        self.name = name\n",
        "        self.age = None\n",
        "        self.city = None\n",
        "\n",
        "    def set_age(self, age):\n",
        "        self.age = age\n",
        "        return self  # enables chaining\n",
        "\n",
        "    def set_city(self, city):\n",
        "        self.city = city\n",
        "        return self\n",
        "\n",
        "    def show(self):\n",
        "        print(f\"{self.name}, {self.age}, {self.city}\")\n",
        "        return self\n",
        "\n",
        "# Method chaining in action\n",
        "p = Person(\"Alice\").set_age(30).set_city(\"New York\").show()\n"
      ],
      "metadata": {
        "colab": {
          "base_uri": "https://localhost:8080/"
        },
        "id": "C9yvlcoKUlNe",
        "outputId": "252f215c-ff44-491f-8bb1-6e22856cf0e2"
      },
      "execution_count": 33,
      "outputs": [
        {
          "output_type": "stream",
          "name": "stdout",
          "text": [
            "Alice, 30, New York\n"
          ]
        }
      ]
    },
    {
      "cell_type": "markdown",
      "source": [
        "**Why Use Method Chaining?**\n",
        "\n",
        "| Benefit                 | Description                              |\n",
        "| ----------------------- | ---------------------------------------- |\n",
        "| More readable code      | Logical sequence of actions in one line  |\n",
        "| Cleaner API design      | Especially useful in builders and config |\n",
        "| Encourages fluent style | Ideal for config-style object setup      |\n",
        "\n",
        "\n",
        "**Things to Keep in Mind:**\n",
        "\n",
        "*   Each method must return self (or another chainable object).\n",
        "*   Avoid chaining methods that might return None or non-chainable results.\n",
        "\n"
      ],
      "metadata": {
        "id": "oVDOEXqUVOLP"
      }
    },
    {
      "cell_type": "markdown",
      "source": [
        "# **25. What is the purpose of the __call__ method in Python?**\n",
        "\n",
        "The __call__() method in Python allows an instance of a class to be called like a function.\n",
        "\n",
        "**What It Does:**\n",
        "\n",
        "When you define __call__() in a class, you can \"call\" the object itself using parentheses — just like you'd call a function.\n",
        "\n",
        "This makes your object callable.\n",
        "\n",
        "Example:"
      ],
      "metadata": {
        "id": "z1GUFo1_VeNo"
      }
    },
    {
      "cell_type": "code",
      "source": [
        "class Greeter:\n",
        "    def __init__(self, name):\n",
        "        self.name = name\n",
        "\n",
        "    def __call__(self, message):\n",
        "        return f\"{message}, {self.name}!\"\n",
        "\n",
        "greet = Greeter(\"Alice\")\n",
        "print(greet(\"Hello\"))  # Output: Hello, Alice!\n"
      ],
      "metadata": {
        "colab": {
          "base_uri": "https://localhost:8080/"
        },
        "id": "LZT1UetYVLSA",
        "outputId": "23c344db-5b6c-48e9-8edc-da8cf1733146"
      },
      "execution_count": 34,
      "outputs": [
        {
          "output_type": "stream",
          "name": "stdout",
          "text": [
            "Hello, Alice!\n"
          ]
        }
      ]
    },
    {
      "cell_type": "markdown",
      "source": [
        "**Common Use Cases:**\n",
        "\n",
        "| Use Case                  | Description                                    |\n",
        "| ------------------------- | ---------------------------------------------- |\n",
        "| **Function-like objects** | Allow class instances to behave like functions |\n",
        "| **Decorators**            | Used in building custom decorators             |\n",
        "| **Callback handlers**     | Create reusable, stateful callables            |\n",
        "| **Fluent APIs**           | Enable clean, chainable behavior               |\n",
        "\n",
        "\n",
        "\n"
      ],
      "metadata": {
        "id": "b-xLznbPVwMZ"
      }
    },
    {
      "cell_type": "code",
      "source": [
        "#Behind the Scenes:\n",
        "obj()  ➜  obj.__call__()"
      ],
      "metadata": {
        "id": "vfbyGOqGVt5y"
      },
      "execution_count": null,
      "outputs": []
    },
    {
      "cell_type": "markdown",
      "source": [
        "So calling obj() is syntactic sugar for obj.__call__().\n",
        "\n",
        "**Summary:**\n",
        "\n",
        "\n",
        "*   __call__() makes a class instance behave like a function.\n",
        "*   Enables powerful design patterns like decorators, callbacks, and function objects.\n",
        "\n"
      ],
      "metadata": {
        "id": "itnKlNHrV-vV"
      }
    },
    {
      "cell_type": "markdown",
      "source": [
        "# ***Practical Questions***"
      ],
      "metadata": {
        "id": "D1hJKk0wWW8l"
      }
    },
    {
      "cell_type": "markdown",
      "source": [
        "# **1. Create a parent class Animal with a method speak() that prints a generic message. Create a child class Dog that overrides the speak() method to print \"Bark!\".**"
      ],
      "metadata": {
        "id": "mCVBABh9Wa9r"
      }
    },
    {
      "cell_type": "code",
      "source": [
        "# Parent class Animal\n",
        "class Animal:\n",
        "    def speak(self):\n",
        "        print(\"The animal makes a sound.\")\n",
        "\n",
        "# Child class Dog that overrides speak() method\n",
        "class Dog(Animal):\n",
        "    def speak(self):\n",
        "        print(\"Bark!\")\n",
        "\n",
        "# Create instances of both classes\n",
        "animal = Animal()\n",
        "dog = Dog()\n",
        "\n",
        "# Call speak() on both instances\n",
        "animal.speak()  # Output: The animal makes a sound.\n",
        "dog.speak()     # Output: Bark!\n"
      ],
      "metadata": {
        "colab": {
          "base_uri": "https://localhost:8080/"
        },
        "id": "-IpwmsSQV6oe",
        "outputId": "38343c39-8438-48c3-a9d6-6fda1ff23f12"
      },
      "execution_count": 36,
      "outputs": [
        {
          "output_type": "stream",
          "name": "stdout",
          "text": [
            "The animal makes a sound.\n",
            "Bark!\n"
          ]
        }
      ]
    },
    {
      "cell_type": "markdown",
      "source": [
        "# **2. Write a program to create an abstract class Shape with a method area(). Derive classes Circle and Rectangle from it and implement the area() method in both.**"
      ],
      "metadata": {
        "id": "0_gNxbdAWo17"
      }
    },
    {
      "cell_type": "code",
      "source": [
        "from abc import ABC, abstractmethod\n",
        "import math\n",
        "\n",
        "# Abstract class Shape\n",
        "class Shape(ABC):\n",
        "    @abstractmethod\n",
        "    def area(self):\n",
        "        pass  # Abstract method, should be implemented by subclasses\n",
        "\n",
        "# Derived class Circle\n",
        "class Circle(Shape):\n",
        "    def __init__(self, radius):\n",
        "        self.radius = radius\n",
        "\n",
        "    def area(self):\n",
        "        return math.pi * (self.radius ** 2)  # Area of circle = π * r²\n",
        "\n",
        "# Derived class Rectangle\n",
        "class Rectangle(Shape):\n",
        "    def __init__(self, length, width):\n",
        "        self.length = length\n",
        "        self.width = width\n",
        "\n",
        "    def area(self):\n",
        "        return self.length * self.width  # Area of rectangle = length * width\n",
        "\n",
        "# Create instances of Circle and Rectangle\n",
        "circle = Circle(5)\n",
        "rectangle = Rectangle(4, 6)\n",
        "\n",
        "# Calculate and print areas\n",
        "print(f\"Area of Circle: {circle.area()}\")  # Output: Area of Circle: 78.53981633974483\n",
        "print(f\"Area of Rectangle: {rectangle.area()}\")  # Output: Area of Rectangle: 24\n"
      ],
      "metadata": {
        "colab": {
          "base_uri": "https://localhost:8080/"
        },
        "id": "yB6QRO1WWlsq",
        "outputId": "36c19d7e-ca1c-4666-ffa6-94f58fb72bf4"
      },
      "execution_count": 38,
      "outputs": [
        {
          "output_type": "stream",
          "name": "stdout",
          "text": [
            "Area of Circle: 78.53981633974483\n",
            "Area of Rectangle: 24\n"
          ]
        }
      ]
    },
    {
      "cell_type": "markdown",
      "source": [
        "# **3.  Implement a multi-level inheritance scenario where a class Vehicle has an attribute type. Derive a class Car and further derive a class ElectricCar that adds a battery attribute.**"
      ],
      "metadata": {
        "id": "zKzmEuanXCtW"
      }
    },
    {
      "cell_type": "code",
      "source": [
        "# Base class Vehicle\n",
        "class Vehicle:\n",
        "    def __init__(self, vehicle_type):\n",
        "        self.vehicle_type = vehicle_type  # Attribute specific to Vehicle\n",
        "\n",
        "    def show_type(self):\n",
        "        print(f\"Vehicle type: {self.vehicle_type}\")\n",
        "\n",
        "# Derived class Car from Vehicle\n",
        "class Car(Vehicle):\n",
        "    def __init__(self, vehicle_type, make, model):\n",
        "        # Calling the constructor of the parent (Vehicle)\n",
        "        super().__init__(vehicle_type)\n",
        "        self.make = make\n",
        "        self.model = model\n",
        "\n",
        "    def show_car_details(self):\n",
        "        print(f\"Car make: {self.make}, model: {self.model}\")\n",
        "\n",
        "# Further derived class ElectricCar from Car\n",
        "class ElectricCar(Car):\n",
        "    def __init__(self, vehicle_type, make, model, battery_capacity):\n",
        "        # Calling the constructor of the parent (Car)\n",
        "        super().__init__(vehicle_type, make, model)\n",
        "        self.battery_capacity = battery_capacity  # New attribute specific to ElectricCar\n",
        "\n",
        "    def show_battery_info(self):\n",
        "        print(f\"Battery capacity: {self.battery_capacity} kWh\")\n",
        "\n",
        "# Create an instance of ElectricCar\n",
        "electric_car = ElectricCar(\"Electric\", \"Tesla\", \"Model S\", 100)\n",
        "\n",
        "# Call methods from each class\n",
        "electric_car.show_type()            # From Vehicle class\n",
        "electric_car.show_car_details()     # From Car class\n",
        "electric_car.show_battery_info()    # From ElectricCar class\n"
      ],
      "metadata": {
        "colab": {
          "base_uri": "https://localhost:8080/"
        },
        "id": "BQhmj7goW97v",
        "outputId": "8cdf754c-7903-427d-f505-3ad6c3e3aba1"
      },
      "execution_count": 39,
      "outputs": [
        {
          "output_type": "stream",
          "name": "stdout",
          "text": [
            "Vehicle type: Electric\n",
            "Car make: Tesla, model: Model S\n",
            "Battery capacity: 100 kWh\n"
          ]
        }
      ]
    },
    {
      "cell_type": "markdown",
      "source": [
        "# **4. Demonstrate polymorphism by creating a base class Bird with a method fly(). Create two derived classes Sparrow and Penguin that override the fly() method.**\n"
      ],
      "metadata": {
        "id": "EF2YrfthXR7f"
      }
    },
    {
      "cell_type": "code",
      "source": [
        "# Base class Bird\n",
        "class Bird:\n",
        "    def fly(self):\n",
        "        raise NotImplementedError(\"Subclass must implement abstract method\")\n",
        "\n",
        "# Derived class Sparrow\n",
        "class Sparrow(Bird):\n",
        "    def fly(self):\n",
        "        print(\"Sparrow flies in the sky.\")\n",
        "\n",
        "# Derived class Penguin\n",
        "class Penguin(Bird):\n",
        "    def fly(self):\n",
        "        print(\"Penguins cannot fly.\")\n",
        "\n",
        "# Function that uses polymorphism to call fly() on different birds\n",
        "def make_bird_fly(bird):\n",
        "    bird.fly()\n",
        "\n",
        "# Create instances of Sparrow and Penguin\n",
        "sparrow = Sparrow()\n",
        "penguin = Penguin()\n",
        "\n",
        "# Call make_bird_fly() function with different bird objects\n",
        "make_bird_fly(sparrow)  # Output: Sparrow flies in the sky.\n",
        "make_bird_fly(penguin)  # Output: Penguins cannot fly.\n"
      ],
      "metadata": {
        "colab": {
          "base_uri": "https://localhost:8080/"
        },
        "id": "VXlsA2o1XOid",
        "outputId": "2baae58e-7370-4ab3-a583-26d839fa4508"
      },
      "execution_count": 40,
      "outputs": [
        {
          "output_type": "stream",
          "name": "stdout",
          "text": [
            "Sparrow flies in the sky.\n",
            "Penguins cannot fly.\n"
          ]
        }
      ]
    },
    {
      "cell_type": "markdown",
      "source": [
        "# **5. Write a program to demonstrate encapsulation by creating a class BankAccount with private attributes balance and methods to deposit, withdraw, and check balance.**"
      ],
      "metadata": {
        "id": "TtVzoTETXhY3"
      }
    },
    {
      "cell_type": "code",
      "source": [
        "class BankAccount:\n",
        "    def __init__(self, initial_balance=0):\n",
        "        # Private attribute __balance, not directly accessible from outside\n",
        "        self.__balance = initial_balance\n",
        "\n",
        "    # Public method to deposit money into the account\n",
        "    def deposit(self, amount):\n",
        "        if amount > 0:\n",
        "            self.__balance += amount\n",
        "            print(f\"Deposited: ${amount}. New balance: ${self.__balance}\")\n",
        "        else:\n",
        "            print(\"Deposit amount must be greater than 0.\")\n",
        "\n",
        "    # Public method to withdraw money from the account\n",
        "    def withdraw(self, amount):\n",
        "        if amount > 0 and amount <= self.__balance:\n",
        "            self.__balance -= amount\n",
        "            print(f\"Withdrew: ${amount}. New balance: ${self.__balance}\")\n",
        "        elif amount > self.__balance:\n",
        "            print(\"Insufficient funds!\")\n",
        "        else:\n",
        "            print(\"Withdrawal amount must be greater than 0.\")\n",
        "\n",
        "    # Public method to check the balance\n",
        "    def check_balance(self):\n",
        "        print(f\"Current balance: ${self.__balance}\")\n",
        "\n",
        "# Create a BankAccount instance\n",
        "account = BankAccount(1000)\n",
        "\n",
        "# Check the initial balance\n",
        "account.check_balance()  # Output: Current balance: $1000\n",
        "\n",
        "# Deposit money into the account\n",
        "account.deposit(500)  # Output: Deposited: $500. New balance: $1500\n",
        "\n",
        "# Withdraw money from the account\n",
        "account.withdraw(200)  # Output: Withdrew: $200. New balance: $1300\n",
        "\n",
        "# Try to withdraw more than available balance\n",
        "account.withdraw(2000)  # Output: Insufficient funds!\n",
        "\n",
        "# Check the balance again\n",
        "account.check_balance()  # Output: Current balance: $1300\n",
        "\n",
        "# Try to access the private balance directly (This will raise an error)\n",
        "# print(account.__balance)  # This will cause an AttributeError\n"
      ],
      "metadata": {
        "colab": {
          "base_uri": "https://localhost:8080/"
        },
        "id": "4zhLMv4jXgOh",
        "outputId": "9397f0f7-87ac-444d-c232-19db6ccca088"
      },
      "execution_count": 41,
      "outputs": [
        {
          "output_type": "stream",
          "name": "stdout",
          "text": [
            "Current balance: $1000\n",
            "Deposited: $500. New balance: $1500\n",
            "Withdrew: $200. New balance: $1300\n",
            "Insufficient funds!\n",
            "Current balance: $1300\n"
          ]
        }
      ]
    },
    {
      "cell_type": "markdown",
      "source": [
        "# **6. Demonstrate runtime polymorphism using a method play() in a base class Instrument. Derive classes Guitar and Piano that implement their own version of play().**"
      ],
      "metadata": {
        "id": "MyrpVnXzX0hD"
      }
    },
    {
      "cell_type": "code",
      "source": [
        "# Base class Instrument\n",
        "class Instrument:\n",
        "    def play(self):\n",
        "        raise NotImplementedError(\"Subclass must implement abstract method\")\n",
        "\n",
        "# Derived class Guitar\n",
        "class Guitar(Instrument):\n",
        "    def play(self):\n",
        "        print(\"Strumming the guitar\")\n",
        "\n",
        "# Derived class Piano\n",
        "class Piano(Instrument):\n",
        "    def play(self):\n",
        "        print(\"Playing the piano\")\n",
        "\n",
        "# Function to demonstrate polymorphism\n",
        "def instrument_play(instrument):\n",
        "    instrument.play()\n",
        "\n",
        "# Create instances of Guitar and Piano\n",
        "guitar = Guitar()\n",
        "piano = Piano()\n",
        "\n",
        "# Call the play method on both instruments\n",
        "instrument_play(guitar)  # Output: Strumming the guitar\n",
        "instrument_play(piano)   # Output: Playing the piano\n"
      ],
      "metadata": {
        "colab": {
          "base_uri": "https://localhost:8080/"
        },
        "id": "HaFI7zvkXuu7",
        "outputId": "3b02e34c-ec41-46c0-cae3-601634548ac2"
      },
      "execution_count": 42,
      "outputs": [
        {
          "output_type": "stream",
          "name": "stdout",
          "text": [
            "Strumming the guitar\n",
            "Playing the piano\n"
          ]
        }
      ]
    },
    {
      "cell_type": "markdown",
      "source": [
        "# **7. Create a class MathOperations with a class method add_numbers() to add two numbers and a static method subtract_numbers() to subtract two numbers.**"
      ],
      "metadata": {
        "id": "-G3vm7ipYADt"
      }
    },
    {
      "cell_type": "code",
      "source": [
        "class MathOperations:\n",
        "\n",
        "    # Class method to add two numbers\n",
        "    @classmethod\n",
        "    def add_numbers(cls, num1, num2):\n",
        "        return num1 + num2\n",
        "\n",
        "    # Static method to subtract two numbers\n",
        "    @staticmethod\n",
        "    def subtract_numbers(num1, num2):\n",
        "        return num1 - num2\n",
        "\n",
        "# Calling class method add_numbers\n",
        "sum_result = MathOperations.add_numbers(10, 5)\n",
        "print(f\"Sum: {sum_result}\")  # Output: Sum: 15\n",
        "\n",
        "# Calling static method subtract_numbers\n",
        "difference_result = MathOperations.subtract_numbers(10, 5)\n",
        "print(f\"Difference: {difference_result}\")  # Output: Difference: 5\n"
      ],
      "metadata": {
        "colab": {
          "base_uri": "https://localhost:8080/"
        },
        "id": "Zm_tu8BdX-ZX",
        "outputId": "cbce15be-6b01-4291-baa8-2cd612bd75ba"
      },
      "execution_count": 43,
      "outputs": [
        {
          "output_type": "stream",
          "name": "stdout",
          "text": [
            "Sum: 15\n",
            "Difference: 5\n"
          ]
        }
      ]
    },
    {
      "cell_type": "markdown",
      "source": [
        "# **8.  Implement a class Person with a class method to count the total number of persons created.**"
      ],
      "metadata": {
        "id": "MAMMEty_YNoH"
      }
    },
    {
      "cell_type": "code",
      "source": [
        "class Person:\n",
        "    # Class variable to keep track of the total number of persons created\n",
        "    total_persons = 0\n",
        "\n",
        "    def __init__(self, name, age):\n",
        "        self.name = name\n",
        "        self.age = age\n",
        "        # Increment the total_persons count whenever a new Person object is created\n",
        "        Person.total_persons += 1\n",
        "\n",
        "    # Class method to get the total number of persons created\n",
        "    @classmethod\n",
        "    def get_total_persons(cls):\n",
        "        return cls.total_persons\n",
        "\n",
        "# Create instances of Person\n",
        "person1 = Person(\"Alice\", 30)\n",
        "person2 = Person(\"Bob\", 25)\n",
        "person3 = Person(\"Charlie\", 35)\n",
        "\n",
        "# Call the class method to get the total number of persons created\n",
        "print(f\"Total persons created: {Person.get_total_persons()}\")  # Output: Total persons created: 3\n"
      ],
      "metadata": {
        "colab": {
          "base_uri": "https://localhost:8080/"
        },
        "id": "CIBhv7vSYJ6J",
        "outputId": "78ec5d12-cdf6-4088-f9d1-3c9637a06661"
      },
      "execution_count": 44,
      "outputs": [
        {
          "output_type": "stream",
          "name": "stdout",
          "text": [
            "Total persons created: 3\n"
          ]
        }
      ]
    },
    {
      "cell_type": "markdown",
      "source": [
        "# **9. Write a class Fraction with attributes numerator and denominator. Override the str method to display the fraction as \"numerator/denominator\".**"
      ],
      "metadata": {
        "id": "LxZgih3cYXYC"
      }
    },
    {
      "cell_type": "code",
      "source": [
        "class Fraction:\n",
        "    def __init__(self, numerator, denominator):\n",
        "        self.numerator = numerator\n",
        "        self.denominator = denominator\n",
        "\n",
        "    # Override the __str__ method to return the fraction as \"numerator/denominator\"\n",
        "    def __str__(self):\n",
        "        return f\"{self.numerator}/{self.denominator}\"\n",
        "\n",
        "# Create instances of Fraction\n",
        "fraction1 = Fraction(3, 4)\n",
        "fraction2 = Fraction(5, 6)\n",
        "\n",
        "# Print the fractions\n",
        "print(fraction1)  # Output: 3/4\n",
        "print(fraction2)  # Output: 5/6\n"
      ],
      "metadata": {
        "colab": {
          "base_uri": "https://localhost:8080/"
        },
        "id": "uEYJ-MvnYU_N",
        "outputId": "686b0828-b4e6-4237-e740-eeace751e9cf"
      },
      "execution_count": 45,
      "outputs": [
        {
          "output_type": "stream",
          "name": "stdout",
          "text": [
            "3/4\n",
            "5/6\n"
          ]
        }
      ]
    },
    {
      "cell_type": "markdown",
      "source": [
        "# **10. Demonstrate operator overloading by creating a class Vector and overriding the add method to add two vectors.**"
      ],
      "metadata": {
        "id": "RvvTqTfgZ3p6"
      }
    },
    {
      "cell_type": "code",
      "source": [
        "class Vector:\n",
        "    def __init__(self, x, y):\n",
        "        self.x = x\n",
        "        self.y = y\n",
        "\n",
        "    # Overloading the + operator to add two vectors\n",
        "    def __add__(self, other):\n",
        "        # Adding corresponding components of two vectors\n",
        "        return Vector(self.x + other.x, self.y + other.y)\n",
        "\n",
        "    # Method to represent the vector as a string for easy display\n",
        "    def __str__(self):\n",
        "        return f\"({self.x}, {self.y})\"\n",
        "\n",
        "# Create instances of Vector\n",
        "vector1 = Vector(2, 3)\n",
        "vector2 = Vector(4, 1)\n",
        "\n",
        "# Add the two vectors using the overloaded + operator\n",
        "result_vector = vector1 + vector2\n",
        "\n",
        "# Print the result of the addition\n",
        "print(f\"Vector1: {vector1}\")  # Output: (2, 3)\n",
        "print(f\"Vector2: {vector2}\")  # Output: (4, 1)\n",
        "print(f\"Resultant Vector: {result_vector}\")  # Output: (6, 4)\n"
      ],
      "metadata": {
        "colab": {
          "base_uri": "https://localhost:8080/"
        },
        "id": "131z-7rfZ00_",
        "outputId": "92669117-7c09-4ad1-fec8-21f572d44f15"
      },
      "execution_count": 47,
      "outputs": [
        {
          "output_type": "stream",
          "name": "stdout",
          "text": [
            "Vector1: (2, 3)\n",
            "Vector2: (4, 1)\n",
            "Resultant Vector: (6, 4)\n"
          ]
        }
      ]
    },
    {
      "cell_type": "markdown",
      "source": [
        "# **11.  Create a class Person with attributes name and age. Add a method greet() that prints \"Hello, my name is {name} and I am {age} years old.\"**\n",
        "\n",
        "\n"
      ],
      "metadata": {
        "id": "bOoUhjplaJsS"
      }
    },
    {
      "cell_type": "code",
      "source": [
        "class Person:\n",
        "    def __init__(self, name, age):\n",
        "        # Initialize the name and age attributes\n",
        "        self.name = name\n",
        "        self.age = age\n",
        "\n",
        "    def greet(self):\n",
        "        # Method to print a greeting message with name and age\n",
        "        print(f\"Hello, my name is {self.name} and I am {self.age} years old.\")\n",
        "\n",
        "# Create an instance of Person\n",
        "person1 = Person(\"Alice\", 30)\n",
        "person2 = Person(\"Bob\", 25)\n",
        "\n",
        "# Call the greet method on both instances\n",
        "person1.greet()  # Output: Hello, my name is Alice and I am 30 years old.\n",
        "person2.greet()  # Output: Hello, my name is Bob and I am 25 years old.\n"
      ],
      "metadata": {
        "colab": {
          "base_uri": "https://localhost:8080/"
        },
        "id": "Z24ecrnNZ_sr",
        "outputId": "85c1255f-171c-4875-ce80-b7c8bb506b11"
      },
      "execution_count": 48,
      "outputs": [
        {
          "output_type": "stream",
          "name": "stdout",
          "text": [
            "Hello, my name is Alice and I am 30 years old.\n",
            "Hello, my name is Bob and I am 25 years old.\n"
          ]
        }
      ]
    },
    {
      "cell_type": "markdown",
      "source": [
        "# **12.  Implement a class Student with attributes name and grades. Create a method average_grade() to compute the average of the grades.**"
      ],
      "metadata": {
        "id": "45bI3nM0aVVL"
      }
    },
    {
      "cell_type": "code",
      "source": [
        "class Student:\n",
        "    def __init__(self, name, grades):\n",
        "        # Initialize the name and grades attributes\n",
        "        self.name = name\n",
        "        self.grades = grades\n",
        "\n",
        "    def average_grade(self):\n",
        "        # Calculate the average grade\n",
        "        if len(self.grades) > 0:\n",
        "            return sum(self.grades) / len(self.grades)\n",
        "        else:\n",
        "            return 0  # If no grades are provided, return 0\n",
        "\n",
        "# Create instances of Student\n",
        "student1 = Student(\"Alice\", [85, 90, 78, 92])\n",
        "student2 = Student(\"Bob\", [76, 85, 88, 91])\n",
        "\n",
        "# Call the average_grade method on both instances\n",
        "print(f\"{student1.name}'s average grade: {student1.average_grade()}\")  # Output: Alice's average grade: 86.25\n",
        "print(f\"{student2.name}'s average grade: {student2.average_grade()}\")  # Output: Bob's average grade: 85.0\n"
      ],
      "metadata": {
        "colab": {
          "base_uri": "https://localhost:8080/"
        },
        "id": "WbNVt_p_aTGU",
        "outputId": "83726d79-8f8d-476e-97ae-afd5885a9483"
      },
      "execution_count": 49,
      "outputs": [
        {
          "output_type": "stream",
          "name": "stdout",
          "text": [
            "Alice's average grade: 86.25\n",
            "Bob's average grade: 85.0\n"
          ]
        }
      ]
    },
    {
      "cell_type": "markdown",
      "source": [
        "# **13. Create a class Rectangle with methods set_dimensions() to set the dimensions and area() to calculate the area.**"
      ],
      "metadata": {
        "id": "R0T_LDi2aflH"
      }
    },
    {
      "cell_type": "code",
      "source": [
        "class Rectangle:\n",
        "    def __init__(self):\n",
        "        # Initialize the dimensions of the rectangle as None\n",
        "        self.length = None\n",
        "        self.width = None\n",
        "\n",
        "    def set_dimensions(self, length, width):\n",
        "        # Method to set the length and width of the rectangle\n",
        "        self.length = length\n",
        "        self.width = width\n",
        "\n",
        "    def area(self):\n",
        "        # Method to calculate the area of the rectangle\n",
        "        if self.length is not None and self.width is not None:\n",
        "            return self.length * self.width\n",
        "        else:\n",
        "            return 0  # Return 0 if dimensions are not set\n",
        "\n",
        "# Create an instance of Rectangle\n",
        "rectangle = Rectangle()\n",
        "\n",
        "# Set dimensions of the rectangle\n",
        "rectangle.set_dimensions(5, 3)\n",
        "\n",
        "# Calculate and print the area\n",
        "print(f\"Area of the rectangle: {rectangle.area()}\")  # Output: Area of the rectangle: 15\n"
      ],
      "metadata": {
        "colab": {
          "base_uri": "https://localhost:8080/"
        },
        "id": "ezq2kj9bab6Q",
        "outputId": "4408ed45-19db-45d1-8e5c-05e99c73e3e0"
      },
      "execution_count": 50,
      "outputs": [
        {
          "output_type": "stream",
          "name": "stdout",
          "text": [
            "Area of the rectangle: 15\n"
          ]
        }
      ]
    },
    {
      "cell_type": "markdown",
      "source": [
        "# **14. Create a class Employee with a method calculate_salary() that computes the salary based on hours worked and hourly rate. Create a derived class Manager that adds a bonus to the salary.**"
      ],
      "metadata": {
        "id": "lfD42MYWauF5"
      }
    },
    {
      "cell_type": "code",
      "source": [
        "class Employee:\n",
        "    def __init__(self, name, hours_worked, hourly_rate):\n",
        "        self.name = name\n",
        "        self.hours_worked = hours_worked\n",
        "        self.hourly_rate = hourly_rate\n",
        "\n",
        "    def calculate_salary(self):\n",
        "        # Calculate the salary based on hours worked and hourly rate\n",
        "        return self.hours_worked * self.hourly_rate\n",
        "\n",
        "class Manager(Employee):\n",
        "    def __init__(self, name, hours_worked, hourly_rate, bonus):\n",
        "        # Initialize the base class (Employee) with name, hours worked, and hourly rate\n",
        "        super().__init__(name, hours_worked, hourly_rate)\n",
        "        self.bonus = bonus\n",
        "\n",
        "    def calculate_salary(self):\n",
        "        # Calculate salary from Employee and add the bonus for Manager\n",
        "        base_salary = super().calculate_salary()\n",
        "        return base_salary + self.bonus\n",
        "\n",
        "# Create an instance of Employee\n",
        "employee1 = Employee(\"John Doe\", 160, 25)  # 160 hours worked, $25 per hour\n",
        "\n",
        "# Create an instance of Manager\n",
        "manager1 = Manager(\"Jane Smith\", 160, 30, 500)  # 160 hours worked, $30 per hour, $500 bonus\n",
        "\n",
        "# Calculate and print salaries\n",
        "print(f\"{employee1.name}'s salary: ${employee1.calculate_salary()}\")  # Output: 4000\n",
        "print(f\"{manager1.name}'s salary: ${manager1.calculate_salary()}\")    # Output: 5300\n"
      ],
      "metadata": {
        "colab": {
          "base_uri": "https://localhost:8080/"
        },
        "id": "vVBCbCT9aqHV",
        "outputId": "b2a1fab0-8a37-4812-d2d8-f61914ee3558"
      },
      "execution_count": 51,
      "outputs": [
        {
          "output_type": "stream",
          "name": "stdout",
          "text": [
            "John Doe's salary: $4000\n",
            "Jane Smith's salary: $5300\n"
          ]
        }
      ]
    },
    {
      "cell_type": "markdown",
      "source": [
        "# **15.  Create a class Product with attributes name, price, and quantity. Implement a method total_price() that calculates the total price of the product.**"
      ],
      "metadata": {
        "id": "OUJVXr8Za_0h"
      }
    },
    {
      "cell_type": "code",
      "source": [
        "class Product:\n",
        "    def __init__(self, name, price, quantity):\n",
        "        # Initialize the attributes: name, price, and quantity\n",
        "        self.name = name\n",
        "        self.price = price\n",
        "        self.quantity = quantity\n",
        "\n",
        "    def total_price(self):\n",
        "        # Method to calculate the total price of the product (price * quantity)\n",
        "        return self.price * self.quantity\n",
        "\n",
        "# Create instances of Product\n",
        "product1 = Product(\"Laptop\", 1200, 5)\n",
        "product2 = Product(\"Phone\", 800, 3)\n",
        "\n",
        "# Calculate and print the total price for each product\n",
        "print(f\"Total price of {product1.name}: ${product1.total_price()}\")  # Output: Total price of Laptop: $6000\n",
        "print(f\"Total price of {product2.name}: ${product2.total_price()}\")  # Output: Total price of Phone: $2400\n"
      ],
      "metadata": {
        "colab": {
          "base_uri": "https://localhost:8080/"
        },
        "id": "J6L3VNwXa9q5",
        "outputId": "03670c60-ae9b-47c4-a552-cfddef071ad2"
      },
      "execution_count": 52,
      "outputs": [
        {
          "output_type": "stream",
          "name": "stdout",
          "text": [
            "Total price of Laptop: $6000\n",
            "Total price of Phone: $2400\n"
          ]
        }
      ]
    },
    {
      "cell_type": "markdown",
      "source": [
        "# **16.  Create a class Animal with an abstract method sound(). Create two derived classes Cow and Sheep that implement the sound() method.**"
      ],
      "metadata": {
        "id": "FNPq5ycybUzO"
      }
    },
    {
      "cell_type": "code",
      "source": [
        "from abc import ABC, abstractmethod\n",
        "\n",
        "# Abstract class Animal\n",
        "class Animal(ABC):\n",
        "    @abstractmethod\n",
        "    def sound(self):\n",
        "        pass\n",
        "\n",
        "# Derived class Cow\n",
        "class Cow(Animal):\n",
        "    def sound(self):\n",
        "        return \"Moo\"\n",
        "\n",
        "# Derived class Sheep\n",
        "class Sheep(Animal):\n",
        "    def sound(self):\n",
        "        return \"Baa\"\n",
        "\n",
        "# Create instances of Cow and Sheep\n",
        "cow = Cow()\n",
        "sheep = Sheep()\n",
        "\n",
        "# Call the sound() method on both instances\n",
        "print(f\"Cow sound: {cow.sound()}\")  # Output: Cow sound: Moo\n",
        "print(f\"Sheep sound: {sheep.sound()}\")  # Output: Sheep sound: Baa\n"
      ],
      "metadata": {
        "colab": {
          "base_uri": "https://localhost:8080/"
        },
        "id": "cmYU4G1mbQUW",
        "outputId": "438a1e8d-9b87-4efb-cf19-518523fe93e4"
      },
      "execution_count": 53,
      "outputs": [
        {
          "output_type": "stream",
          "name": "stdout",
          "text": [
            "Cow sound: Moo\n",
            "Sheep sound: Baa\n"
          ]
        }
      ]
    },
    {
      "cell_type": "markdown",
      "source": [
        "# **17.  Create a class Book with attributes title, author, and year_published. Add a method get_book_info() that returns a formatted string with the book's details.**"
      ],
      "metadata": {
        "id": "i1O0BSP5bijQ"
      }
    },
    {
      "cell_type": "code",
      "source": [
        "class Book:\n",
        "    def __init__(self, title, author, year_published):\n",
        "        # Initialize the attributes of the book\n",
        "        self.title = title\n",
        "        self.author = author\n",
        "        self.year_published = year_published\n",
        "\n",
        "    def get_book_info(self):\n",
        "        # Return a formatted string with the book's details\n",
        "        return f\"Title: {self.title}\\nAuthor: {self.author}\\nYear Published: {self.year_published}\"\n",
        "\n",
        "# Create instances of Book\n",
        "book1 = Book(\"1984\", \"George Orwell\", 1949)\n",
        "book2 = Book(\"To Kill a Mockingbird\", \"Harper Lee\", 1960)\n",
        "\n",
        "# Get and print book details\n",
        "print(book1.get_book_info())\n",
        "print()\n",
        "print(book2.get_book_info())\n"
      ],
      "metadata": {
        "colab": {
          "base_uri": "https://localhost:8080/"
        },
        "id": "ttvX9VBsbebz",
        "outputId": "aa572e5d-1187-4a5c-b0e5-0e4e589a64db"
      },
      "execution_count": 54,
      "outputs": [
        {
          "output_type": "stream",
          "name": "stdout",
          "text": [
            "Title: 1984\n",
            "Author: George Orwell\n",
            "Year Published: 1949\n",
            "\n",
            "Title: To Kill a Mockingbird\n",
            "Author: Harper Lee\n",
            "Year Published: 1960\n"
          ]
        }
      ]
    },
    {
      "cell_type": "markdown",
      "source": [
        "# **18.  Create a class House with attributes address and price. Create a derived class Mansion that adds an attribute number_of_rooms.**"
      ],
      "metadata": {
        "id": "eY7XTASmbs0H"
      }
    },
    {
      "cell_type": "code",
      "source": [
        "# Base class House\n",
        "class House:\n",
        "    def __init__(self, address, price):\n",
        "        # Initialize the address and price attributes for the House\n",
        "        self.address = address\n",
        "        self.price = price\n",
        "\n",
        "    def get_info(self):\n",
        "        # Method to return the details of the house\n",
        "        return f\"Address: {self.address}\\nPrice: ${self.price}\"\n",
        "\n",
        "# Derived class Mansion\n",
        "class Mansion(House):\n",
        "    def __init__(self, address, price, number_of_rooms):\n",
        "        # Initialize the base class (House) attributes\n",
        "        super().__init__(address, price)\n",
        "        # Initialize the number_of_rooms attribute specific to Mansion\n",
        "        self.number_of_rooms = number_of_rooms\n",
        "\n",
        "    def get_info(self):\n",
        "        # Method to return the details of the mansion, including number of rooms\n",
        "        house_info = super().get_info()  # Get the base class info\n",
        "        return f\"{house_info}\\nNumber of rooms: {self.number_of_rooms}\"\n",
        "\n",
        "# Create instances of House and Mansion\n",
        "house1 = House(\"123 Elm St, Springfield\", 250000)\n",
        "mansion1 = Mansion(\"456 Oak Dr, Beverly Hills\", 5000000, 12)\n",
        "\n",
        "# Print details of the house and mansion\n",
        "print(house1.get_info())  # Output: Address and price of the house\n",
        "print()\n",
        "print(mansion1.get_info())  # Output: Address, price, and number of rooms of the mansion\n"
      ],
      "metadata": {
        "colab": {
          "base_uri": "https://localhost:8080/"
        },
        "id": "mmCNQO1bbqst",
        "outputId": "dff4cedf-3e37-4859-b8ff-51c078c98b6c"
      },
      "execution_count": 56,
      "outputs": [
        {
          "output_type": "stream",
          "name": "stdout",
          "text": [
            "Address: 123 Elm St, Springfield\n",
            "Price: $250000\n",
            "\n",
            "Address: 456 Oak Dr, Beverly Hills\n",
            "Price: $5000000\n",
            "Number of rooms: 12\n"
          ]
        }
      ]
    }
  ]
}